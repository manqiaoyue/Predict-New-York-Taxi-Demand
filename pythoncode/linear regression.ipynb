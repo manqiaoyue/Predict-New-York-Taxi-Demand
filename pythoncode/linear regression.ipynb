{
 "cells": [
  {
   "cell_type": "code",
   "execution_count": 34,
   "metadata": {
    "collapsed": true
   },
   "outputs": [],
   "source": [
    "import numpy as np\n",
    "from scipy import stats\n",
    "from sklearn import linear_model\n",
    "ols = linear_model.LinearRegression()"
   ]
  },
  {
   "cell_type": "code",
   "execution_count": 35,
   "metadata": {
    "collapsed": false
   },
   "outputs": [],
   "source": [
    "import numpy as np\n",
    "import pandas as pd\n",
    "import os\n",
    "os.chdir(\"/Users/shuozhang/Desktop/data\")\n",
    "nycmodel=pd.read_csv('nycmodeldata.csv', sep='\\t', encoding='utf-8', index_col=False, dtype={'zipcode':'S10'})"
   ]
  },
  {
   "cell_type": "code",
   "execution_count": 36,
   "metadata": {
    "collapsed": false
   },
   "outputs": [
    {
     "data": {
      "text/plain": [
       "Unnamed: 0      int64\n",
       "Month           int64\n",
       "Weekday         int64\n",
       "Hour            int64\n",
       "Temp          float64\n",
       "Rain          float64\n",
       "zipcode        object\n",
       "count           int64\n",
       "dtype: object"
      ]
     },
     "execution_count": 36,
     "metadata": {},
     "output_type": "execute_result"
    }
   ],
   "source": [
    "nycmodel.dtypes"
   ]
  },
  {
   "cell_type": "code",
   "execution_count": 37,
   "metadata": {
    "collapsed": false
   },
   "outputs": [
    {
     "data": {
      "text/html": [
       "<div>\n",
       "<table border=\"1\" class=\"dataframe\">\n",
       "  <thead>\n",
       "    <tr style=\"text-align: right;\">\n",
       "      <th></th>\n",
       "      <th>Unnamed: 0</th>\n",
       "      <th>Month</th>\n",
       "      <th>Weekday</th>\n",
       "      <th>Hour</th>\n",
       "      <th>Temp</th>\n",
       "      <th>Rain</th>\n",
       "      <th>count</th>\n",
       "    </tr>\n",
       "  </thead>\n",
       "  <tbody>\n",
       "    <tr>\n",
       "      <th>count</th>\n",
       "      <td>613548.000000</td>\n",
       "      <td>613548.000000</td>\n",
       "      <td>613548.000000</td>\n",
       "      <td>613548.000000</td>\n",
       "      <td>613548.000000</td>\n",
       "      <td>613548.000000</td>\n",
       "      <td>613548.000000</td>\n",
       "    </tr>\n",
       "    <tr>\n",
       "      <th>mean</th>\n",
       "      <td>351665.410605</td>\n",
       "      <td>6.516801</td>\n",
       "      <td>3.026107</td>\n",
       "      <td>11.790823</td>\n",
       "      <td>67.775626</td>\n",
       "      <td>0.002052</td>\n",
       "      <td>118.682903</td>\n",
       "    </tr>\n",
       "    <tr>\n",
       "      <th>std</th>\n",
       "      <td>205065.403608</td>\n",
       "      <td>1.701231</td>\n",
       "      <td>2.001084</td>\n",
       "      <td>6.873809</td>\n",
       "      <td>10.683201</td>\n",
       "      <td>0.014494</td>\n",
       "      <td>254.076062</td>\n",
       "    </tr>\n",
       "    <tr>\n",
       "      <th>min</th>\n",
       "      <td>11.000000</td>\n",
       "      <td>4.000000</td>\n",
       "      <td>0.000000</td>\n",
       "      <td>0.000000</td>\n",
       "      <td>32.000000</td>\n",
       "      <td>0.000000</td>\n",
       "      <td>1.000000</td>\n",
       "    </tr>\n",
       "    <tr>\n",
       "      <th>25%</th>\n",
       "      <td>173945.750000</td>\n",
       "      <td>5.000000</td>\n",
       "      <td>1.000000</td>\n",
       "      <td>6.000000</td>\n",
       "      <td>62.000000</td>\n",
       "      <td>0.000000</td>\n",
       "      <td>3.000000</td>\n",
       "    </tr>\n",
       "    <tr>\n",
       "      <th>50%</th>\n",
       "      <td>349474.500000</td>\n",
       "      <td>7.000000</td>\n",
       "      <td>3.000000</td>\n",
       "      <td>12.000000</td>\n",
       "      <td>69.000000</td>\n",
       "      <td>0.000000</td>\n",
       "      <td>14.000000</td>\n",
       "    </tr>\n",
       "    <tr>\n",
       "      <th>75%</th>\n",
       "      <td>529041.250000</td>\n",
       "      <td>8.000000</td>\n",
       "      <td>5.000000</td>\n",
       "      <td>18.000000</td>\n",
       "      <td>75.000000</td>\n",
       "      <td>0.000000</td>\n",
       "      <td>75.000000</td>\n",
       "    </tr>\n",
       "    <tr>\n",
       "      <th>max</th>\n",
       "      <td>710322.000000</td>\n",
       "      <td>9.000000</td>\n",
       "      <td>6.000000</td>\n",
       "      <td>23.000000</td>\n",
       "      <td>92.000000</td>\n",
       "      <td>0.420000</td>\n",
       "      <td>2346.000000</td>\n",
       "    </tr>\n",
       "  </tbody>\n",
       "</table>\n",
       "</div>"
      ],
      "text/plain": [
       "          Unnamed: 0          Month        Weekday           Hour  \\\n",
       "count  613548.000000  613548.000000  613548.000000  613548.000000   \n",
       "mean   351665.410605       6.516801       3.026107      11.790823   \n",
       "std    205065.403608       1.701231       2.001084       6.873809   \n",
       "min        11.000000       4.000000       0.000000       0.000000   \n",
       "25%    173945.750000       5.000000       1.000000       6.000000   \n",
       "50%    349474.500000       7.000000       3.000000      12.000000   \n",
       "75%    529041.250000       8.000000       5.000000      18.000000   \n",
       "max    710322.000000       9.000000       6.000000      23.000000   \n",
       "\n",
       "                Temp           Rain          count  \n",
       "count  613548.000000  613548.000000  613548.000000  \n",
       "mean       67.775626       0.002052     118.682903  \n",
       "std        10.683201       0.014494     254.076062  \n",
       "min        32.000000       0.000000       1.000000  \n",
       "25%        62.000000       0.000000       3.000000  \n",
       "50%        69.000000       0.000000      14.000000  \n",
       "75%        75.000000       0.000000      75.000000  \n",
       "max        92.000000       0.420000    2346.000000  "
      ]
     },
     "execution_count": 37,
     "metadata": {},
     "output_type": "execute_result"
    }
   ],
   "source": [
    "nycmodel.describe()"
   ]
  },
  {
   "cell_type": "code",
   "execution_count": 38,
   "metadata": {
    "collapsed": false
   },
   "outputs": [
    {
     "data": {
      "text/plain": [
       "(613548, 8)"
      ]
     },
     "execution_count": 38,
     "metadata": {},
     "output_type": "execute_result"
    }
   ],
   "source": [
    "nycmodel.shape"
   ]
  },
  {
   "cell_type": "code",
   "execution_count": 39,
   "metadata": {
    "collapsed": false
   },
   "outputs": [],
   "source": [
    "import numpy as np\n",
    "import pandas as pd\n",
    "import statsmodels.api as sm\n",
    "just_dummies = pd.get_dummies(nycmodel['zipcode'])"
   ]
  },
  {
   "cell_type": "code",
   "execution_count": 158,
   "metadata": {
    "collapsed": false
   },
   "outputs": [
    {
     "data": {
      "text/html": [
       "<div>\n",
       "<table border=\"1\" class=\"dataframe\">\n",
       "  <thead>\n",
       "    <tr style=\"text-align: right;\">\n",
       "      <th></th>\n",
       "      <th>10001</th>\n",
       "      <th>10002</th>\n",
       "      <th>10003</th>\n",
       "      <th>10004</th>\n",
       "      <th>10005</th>\n",
       "      <th>10006</th>\n",
       "      <th>10007</th>\n",
       "      <th>10009</th>\n",
       "      <th>10010</th>\n",
       "      <th>10011</th>\n",
       "      <th>...</th>\n",
       "      <th>11428</th>\n",
       "      <th>11429</th>\n",
       "      <th>11430</th>\n",
       "      <th>11432</th>\n",
       "      <th>11433</th>\n",
       "      <th>11434</th>\n",
       "      <th>11435</th>\n",
       "      <th>11436</th>\n",
       "      <th>11439</th>\n",
       "      <th>11451</th>\n",
       "    </tr>\n",
       "  </thead>\n",
       "  <tbody>\n",
       "    <tr>\n",
       "      <th>0</th>\n",
       "      <td>1.0</td>\n",
       "      <td>0.0</td>\n",
       "      <td>0.0</td>\n",
       "      <td>0.0</td>\n",
       "      <td>0.0</td>\n",
       "      <td>0.0</td>\n",
       "      <td>0.0</td>\n",
       "      <td>0.0</td>\n",
       "      <td>0.0</td>\n",
       "      <td>0.0</td>\n",
       "      <td>...</td>\n",
       "      <td>0.0</td>\n",
       "      <td>0.0</td>\n",
       "      <td>0.0</td>\n",
       "      <td>0.0</td>\n",
       "      <td>0.0</td>\n",
       "      <td>0.0</td>\n",
       "      <td>0.0</td>\n",
       "      <td>0.0</td>\n",
       "      <td>0.0</td>\n",
       "      <td>0.0</td>\n",
       "    </tr>\n",
       "    <tr>\n",
       "      <th>1</th>\n",
       "      <td>0.0</td>\n",
       "      <td>1.0</td>\n",
       "      <td>0.0</td>\n",
       "      <td>0.0</td>\n",
       "      <td>0.0</td>\n",
       "      <td>0.0</td>\n",
       "      <td>0.0</td>\n",
       "      <td>0.0</td>\n",
       "      <td>0.0</td>\n",
       "      <td>0.0</td>\n",
       "      <td>...</td>\n",
       "      <td>0.0</td>\n",
       "      <td>0.0</td>\n",
       "      <td>0.0</td>\n",
       "      <td>0.0</td>\n",
       "      <td>0.0</td>\n",
       "      <td>0.0</td>\n",
       "      <td>0.0</td>\n",
       "      <td>0.0</td>\n",
       "      <td>0.0</td>\n",
       "      <td>0.0</td>\n",
       "    </tr>\n",
       "    <tr>\n",
       "      <th>2</th>\n",
       "      <td>0.0</td>\n",
       "      <td>0.0</td>\n",
       "      <td>1.0</td>\n",
       "      <td>0.0</td>\n",
       "      <td>0.0</td>\n",
       "      <td>0.0</td>\n",
       "      <td>0.0</td>\n",
       "      <td>0.0</td>\n",
       "      <td>0.0</td>\n",
       "      <td>0.0</td>\n",
       "      <td>...</td>\n",
       "      <td>0.0</td>\n",
       "      <td>0.0</td>\n",
       "      <td>0.0</td>\n",
       "      <td>0.0</td>\n",
       "      <td>0.0</td>\n",
       "      <td>0.0</td>\n",
       "      <td>0.0</td>\n",
       "      <td>0.0</td>\n",
       "      <td>0.0</td>\n",
       "      <td>0.0</td>\n",
       "    </tr>\n",
       "    <tr>\n",
       "      <th>3</th>\n",
       "      <td>0.0</td>\n",
       "      <td>0.0</td>\n",
       "      <td>0.0</td>\n",
       "      <td>1.0</td>\n",
       "      <td>0.0</td>\n",
       "      <td>0.0</td>\n",
       "      <td>0.0</td>\n",
       "      <td>0.0</td>\n",
       "      <td>0.0</td>\n",
       "      <td>0.0</td>\n",
       "      <td>...</td>\n",
       "      <td>0.0</td>\n",
       "      <td>0.0</td>\n",
       "      <td>0.0</td>\n",
       "      <td>0.0</td>\n",
       "      <td>0.0</td>\n",
       "      <td>0.0</td>\n",
       "      <td>0.0</td>\n",
       "      <td>0.0</td>\n",
       "      <td>0.0</td>\n",
       "      <td>0.0</td>\n",
       "    </tr>\n",
       "    <tr>\n",
       "      <th>4</th>\n",
       "      <td>0.0</td>\n",
       "      <td>0.0</td>\n",
       "      <td>0.0</td>\n",
       "      <td>0.0</td>\n",
       "      <td>1.0</td>\n",
       "      <td>0.0</td>\n",
       "      <td>0.0</td>\n",
       "      <td>0.0</td>\n",
       "      <td>0.0</td>\n",
       "      <td>0.0</td>\n",
       "      <td>...</td>\n",
       "      <td>0.0</td>\n",
       "      <td>0.0</td>\n",
       "      <td>0.0</td>\n",
       "      <td>0.0</td>\n",
       "      <td>0.0</td>\n",
       "      <td>0.0</td>\n",
       "      <td>0.0</td>\n",
       "      <td>0.0</td>\n",
       "      <td>0.0</td>\n",
       "      <td>0.0</td>\n",
       "    </tr>\n",
       "  </tbody>\n",
       "</table>\n",
       "<p>5 rows × 198 columns</p>\n",
       "</div>"
      ],
      "text/plain": [
       "   10001  10002  10003  10004  10005  10006  10007  10009  10010  10011  \\\n",
       "0    1.0    0.0    0.0    0.0    0.0    0.0    0.0    0.0    0.0    0.0   \n",
       "1    0.0    1.0    0.0    0.0    0.0    0.0    0.0    0.0    0.0    0.0   \n",
       "2    0.0    0.0    1.0    0.0    0.0    0.0    0.0    0.0    0.0    0.0   \n",
       "3    0.0    0.0    0.0    1.0    0.0    0.0    0.0    0.0    0.0    0.0   \n",
       "4    0.0    0.0    0.0    0.0    1.0    0.0    0.0    0.0    0.0    0.0   \n",
       "\n",
       "   ...    11428  11429  11430  11432  11433  11434  11435  11436  11439  11451  \n",
       "0  ...      0.0    0.0    0.0    0.0    0.0    0.0    0.0    0.0    0.0    0.0  \n",
       "1  ...      0.0    0.0    0.0    0.0    0.0    0.0    0.0    0.0    0.0    0.0  \n",
       "2  ...      0.0    0.0    0.0    0.0    0.0    0.0    0.0    0.0    0.0    0.0  \n",
       "3  ...      0.0    0.0    0.0    0.0    0.0    0.0    0.0    0.0    0.0    0.0  \n",
       "4  ...      0.0    0.0    0.0    0.0    0.0    0.0    0.0    0.0    0.0    0.0  \n",
       "\n",
       "[5 rows x 198 columns]"
      ]
     },
     "execution_count": 158,
     "metadata": {},
     "output_type": "execute_result"
    }
   ],
   "source": [
    "just_dummies.head()"
   ]
  },
  {
   "cell_type": "code",
   "execution_count": null,
   "metadata": {
    "collapsed": true
   },
   "outputs": [],
   "source": [
    "just_dummies1=just_dummies.applymap(np.int)"
   ]
  },
  {
   "cell_type": "code",
   "execution_count": null,
   "metadata": {
    "collapsed": true
   },
   "outputs": [],
   "source": [
    "step_1 = pd.concat([nycmodel, just_dummies1], axis=1)"
   ]
  },
  {
   "cell_type": "code",
   "execution_count": 36,
   "metadata": {
    "collapsed": false
   },
   "outputs": [
    {
     "data": {
      "text/html": [
       "<div>\n",
       "<table border=\"1\" class=\"dataframe\">\n",
       "  <thead>\n",
       "    <tr style=\"text-align: right;\">\n",
       "      <th></th>\n",
       "      <th>Unnamed: 0</th>\n",
       "      <th>Month</th>\n",
       "      <th>Weekday</th>\n",
       "      <th>Hour</th>\n",
       "      <th>Temp</th>\n",
       "      <th>Rain</th>\n",
       "      <th>zipcode</th>\n",
       "      <th>count</th>\n",
       "      <th>10001</th>\n",
       "      <th>10002</th>\n",
       "      <th>...</th>\n",
       "      <th>11428</th>\n",
       "      <th>11429</th>\n",
       "      <th>11430</th>\n",
       "      <th>11432</th>\n",
       "      <th>11433</th>\n",
       "      <th>11434</th>\n",
       "      <th>11435</th>\n",
       "      <th>11436</th>\n",
       "      <th>11439</th>\n",
       "      <th>11451</th>\n",
       "    </tr>\n",
       "  </thead>\n",
       "  <tbody>\n",
       "    <tr>\n",
       "      <th>0</th>\n",
       "      <td>11</td>\n",
       "      <td>4</td>\n",
       "      <td>1</td>\n",
       "      <td>0</td>\n",
       "      <td>49.0</td>\n",
       "      <td>0.0</td>\n",
       "      <td>10001</td>\n",
       "      <td>375</td>\n",
       "      <td>1</td>\n",
       "      <td>0</td>\n",
       "      <td>...</td>\n",
       "      <td>0</td>\n",
       "      <td>0</td>\n",
       "      <td>0</td>\n",
       "      <td>0</td>\n",
       "      <td>0</td>\n",
       "      <td>0</td>\n",
       "      <td>0</td>\n",
       "      <td>0</td>\n",
       "      <td>0</td>\n",
       "      <td>0</td>\n",
       "    </tr>\n",
       "    <tr>\n",
       "      <th>1</th>\n",
       "      <td>12</td>\n",
       "      <td>4</td>\n",
       "      <td>1</td>\n",
       "      <td>0</td>\n",
       "      <td>49.0</td>\n",
       "      <td>0.0</td>\n",
       "      <td>10002</td>\n",
       "      <td>332</td>\n",
       "      <td>0</td>\n",
       "      <td>1</td>\n",
       "      <td>...</td>\n",
       "      <td>0</td>\n",
       "      <td>0</td>\n",
       "      <td>0</td>\n",
       "      <td>0</td>\n",
       "      <td>0</td>\n",
       "      <td>0</td>\n",
       "      <td>0</td>\n",
       "      <td>0</td>\n",
       "      <td>0</td>\n",
       "      <td>0</td>\n",
       "    </tr>\n",
       "    <tr>\n",
       "      <th>2</th>\n",
       "      <td>13</td>\n",
       "      <td>4</td>\n",
       "      <td>1</td>\n",
       "      <td>0</td>\n",
       "      <td>49.0</td>\n",
       "      <td>0.0</td>\n",
       "      <td>10003</td>\n",
       "      <td>521</td>\n",
       "      <td>0</td>\n",
       "      <td>0</td>\n",
       "      <td>...</td>\n",
       "      <td>0</td>\n",
       "      <td>0</td>\n",
       "      <td>0</td>\n",
       "      <td>0</td>\n",
       "      <td>0</td>\n",
       "      <td>0</td>\n",
       "      <td>0</td>\n",
       "      <td>0</td>\n",
       "      <td>0</td>\n",
       "      <td>0</td>\n",
       "    </tr>\n",
       "    <tr>\n",
       "      <th>3</th>\n",
       "      <td>14</td>\n",
       "      <td>4</td>\n",
       "      <td>1</td>\n",
       "      <td>0</td>\n",
       "      <td>49.0</td>\n",
       "      <td>0.0</td>\n",
       "      <td>10004</td>\n",
       "      <td>49</td>\n",
       "      <td>0</td>\n",
       "      <td>0</td>\n",
       "      <td>...</td>\n",
       "      <td>0</td>\n",
       "      <td>0</td>\n",
       "      <td>0</td>\n",
       "      <td>0</td>\n",
       "      <td>0</td>\n",
       "      <td>0</td>\n",
       "      <td>0</td>\n",
       "      <td>0</td>\n",
       "      <td>0</td>\n",
       "      <td>0</td>\n",
       "    </tr>\n",
       "    <tr>\n",
       "      <th>4</th>\n",
       "      <td>15</td>\n",
       "      <td>4</td>\n",
       "      <td>1</td>\n",
       "      <td>0</td>\n",
       "      <td>49.0</td>\n",
       "      <td>0.0</td>\n",
       "      <td>10005</td>\n",
       "      <td>55</td>\n",
       "      <td>0</td>\n",
       "      <td>0</td>\n",
       "      <td>...</td>\n",
       "      <td>0</td>\n",
       "      <td>0</td>\n",
       "      <td>0</td>\n",
       "      <td>0</td>\n",
       "      <td>0</td>\n",
       "      <td>0</td>\n",
       "      <td>0</td>\n",
       "      <td>0</td>\n",
       "      <td>0</td>\n",
       "      <td>0</td>\n",
       "    </tr>\n",
       "  </tbody>\n",
       "</table>\n",
       "<p>5 rows × 192 columns</p>\n",
       "</div>"
      ],
      "text/plain": [
       "   Unnamed: 0  Month  Weekday  Hour  Temp  Rain zipcode  count  10001  10002  \\\n",
       "0          11      4        1     0  49.0   0.0   10001    375      1      0   \n",
       "1          12      4        1     0  49.0   0.0   10002    332      0      1   \n",
       "2          13      4        1     0  49.0   0.0   10003    521      0      0   \n",
       "3          14      4        1     0  49.0   0.0   10004     49      0      0   \n",
       "4          15      4        1     0  49.0   0.0   10005     55      0      0   \n",
       "\n",
       "   ...    11428  11429  11430  11432  11433  11434  11435  11436  11439  11451  \n",
       "0  ...        0      0      0      0      0      0      0      0      0      0  \n",
       "1  ...        0      0      0      0      0      0      0      0      0      0  \n",
       "2  ...        0      0      0      0      0      0      0      0      0      0  \n",
       "3  ...        0      0      0      0      0      0      0      0      0      0  \n",
       "4  ...        0      0      0      0      0      0      0      0      0      0  \n",
       "\n",
       "[5 rows x 192 columns]"
      ]
     },
     "execution_count": 36,
     "metadata": {},
     "output_type": "execute_result"
    }
   ],
   "source": [
    "step_1.head()"
   ]
  },
  {
   "cell_type": "code",
   "execution_count": null,
   "metadata": {
    "collapsed": false
   },
   "outputs": [],
   "source": [
    "step_1.drop(['zipcode','Unnamed: 0'], inplace=True, axis=1)"
   ]
  },
  {
   "cell_type": "code",
   "execution_count": 140,
   "metadata": {
    "collapsed": false
   },
   "outputs": [
    {
     "data": {
      "text/html": [
       "<div>\n",
       "<table border=\"1\" class=\"dataframe\">\n",
       "  <thead>\n",
       "    <tr style=\"text-align: right;\">\n",
       "      <th></th>\n",
       "      <th>Month</th>\n",
       "      <th>Weekday</th>\n",
       "      <th>Hour</th>\n",
       "      <th>Temp</th>\n",
       "      <th>Rain</th>\n",
       "      <th>count</th>\n",
       "      <th>10001</th>\n",
       "      <th>10002</th>\n",
       "      <th>10003</th>\n",
       "      <th>10004</th>\n",
       "      <th>...</th>\n",
       "      <th>11428</th>\n",
       "      <th>11429</th>\n",
       "      <th>11430</th>\n",
       "      <th>11432</th>\n",
       "      <th>11433</th>\n",
       "      <th>11434</th>\n",
       "      <th>11435</th>\n",
       "      <th>11436</th>\n",
       "      <th>11439</th>\n",
       "      <th>11451</th>\n",
       "    </tr>\n",
       "  </thead>\n",
       "  <tbody>\n",
       "    <tr>\n",
       "      <th>0</th>\n",
       "      <td>4</td>\n",
       "      <td>1</td>\n",
       "      <td>0</td>\n",
       "      <td>49.0</td>\n",
       "      <td>0.0</td>\n",
       "      <td>375</td>\n",
       "      <td>1</td>\n",
       "      <td>0</td>\n",
       "      <td>0</td>\n",
       "      <td>0</td>\n",
       "      <td>...</td>\n",
       "      <td>0</td>\n",
       "      <td>0</td>\n",
       "      <td>0</td>\n",
       "      <td>0</td>\n",
       "      <td>0</td>\n",
       "      <td>0</td>\n",
       "      <td>0</td>\n",
       "      <td>0</td>\n",
       "      <td>0</td>\n",
       "      <td>0</td>\n",
       "    </tr>\n",
       "    <tr>\n",
       "      <th>1</th>\n",
       "      <td>4</td>\n",
       "      <td>1</td>\n",
       "      <td>0</td>\n",
       "      <td>49.0</td>\n",
       "      <td>0.0</td>\n",
       "      <td>332</td>\n",
       "      <td>0</td>\n",
       "      <td>1</td>\n",
       "      <td>0</td>\n",
       "      <td>0</td>\n",
       "      <td>...</td>\n",
       "      <td>0</td>\n",
       "      <td>0</td>\n",
       "      <td>0</td>\n",
       "      <td>0</td>\n",
       "      <td>0</td>\n",
       "      <td>0</td>\n",
       "      <td>0</td>\n",
       "      <td>0</td>\n",
       "      <td>0</td>\n",
       "      <td>0</td>\n",
       "    </tr>\n",
       "    <tr>\n",
       "      <th>2</th>\n",
       "      <td>4</td>\n",
       "      <td>1</td>\n",
       "      <td>0</td>\n",
       "      <td>49.0</td>\n",
       "      <td>0.0</td>\n",
       "      <td>521</td>\n",
       "      <td>0</td>\n",
       "      <td>0</td>\n",
       "      <td>1</td>\n",
       "      <td>0</td>\n",
       "      <td>...</td>\n",
       "      <td>0</td>\n",
       "      <td>0</td>\n",
       "      <td>0</td>\n",
       "      <td>0</td>\n",
       "      <td>0</td>\n",
       "      <td>0</td>\n",
       "      <td>0</td>\n",
       "      <td>0</td>\n",
       "      <td>0</td>\n",
       "      <td>0</td>\n",
       "    </tr>\n",
       "    <tr>\n",
       "      <th>3</th>\n",
       "      <td>4</td>\n",
       "      <td>1</td>\n",
       "      <td>0</td>\n",
       "      <td>49.0</td>\n",
       "      <td>0.0</td>\n",
       "      <td>49</td>\n",
       "      <td>0</td>\n",
       "      <td>0</td>\n",
       "      <td>0</td>\n",
       "      <td>1</td>\n",
       "      <td>...</td>\n",
       "      <td>0</td>\n",
       "      <td>0</td>\n",
       "      <td>0</td>\n",
       "      <td>0</td>\n",
       "      <td>0</td>\n",
       "      <td>0</td>\n",
       "      <td>0</td>\n",
       "      <td>0</td>\n",
       "      <td>0</td>\n",
       "      <td>0</td>\n",
       "    </tr>\n",
       "    <tr>\n",
       "      <th>4</th>\n",
       "      <td>4</td>\n",
       "      <td>1</td>\n",
       "      <td>0</td>\n",
       "      <td>49.0</td>\n",
       "      <td>0.0</td>\n",
       "      <td>55</td>\n",
       "      <td>0</td>\n",
       "      <td>0</td>\n",
       "      <td>0</td>\n",
       "      <td>0</td>\n",
       "      <td>...</td>\n",
       "      <td>0</td>\n",
       "      <td>0</td>\n",
       "      <td>0</td>\n",
       "      <td>0</td>\n",
       "      <td>0</td>\n",
       "      <td>0</td>\n",
       "      <td>0</td>\n",
       "      <td>0</td>\n",
       "      <td>0</td>\n",
       "      <td>0</td>\n",
       "    </tr>\n",
       "  </tbody>\n",
       "</table>\n",
       "<p>5 rows × 204 columns</p>\n",
       "</div>"
      ],
      "text/plain": [
       "   Month  Weekday  Hour  Temp  Rain  count  10001  10002  10003  10004  ...    \\\n",
       "0      4        1     0  49.0   0.0    375      1      0      0      0  ...     \n",
       "1      4        1     0  49.0   0.0    332      0      1      0      0  ...     \n",
       "2      4        1     0  49.0   0.0    521      0      0      1      0  ...     \n",
       "3      4        1     0  49.0   0.0     49      0      0      0      1  ...     \n",
       "4      4        1     0  49.0   0.0     55      0      0      0      0  ...     \n",
       "\n",
       "   11428  11429  11430  11432  11433  11434  11435  11436  11439  11451  \n",
       "0      0      0      0      0      0      0      0      0      0      0  \n",
       "1      0      0      0      0      0      0      0      0      0      0  \n",
       "2      0      0      0      0      0      0      0      0      0      0  \n",
       "3      0      0      0      0      0      0      0      0      0      0  \n",
       "4      0      0      0      0      0      0      0      0      0      0  \n",
       "\n",
       "[5 rows x 204 columns]"
      ]
     },
     "execution_count": 140,
     "metadata": {},
     "output_type": "execute_result"
    }
   ],
   "source": [
    "step_1.head()"
   ]
  },
  {
   "cell_type": "code",
   "execution_count": 33,
   "metadata": {
    "collapsed": false
   },
   "outputs": [
    {
     "data": {
      "text/plain": [
       "(7940, 204)"
      ]
     },
     "execution_count": 33,
     "metadata": {},
     "output_type": "execute_result"
    }
   ],
   "source": [
    "step_1.shape"
   ]
  },
  {
   "cell_type": "code",
   "execution_count": 122,
   "metadata": {
    "collapsed": false
   },
   "outputs": [
    {
     "data": {
      "text/plain": [
       "Month        int64\n",
       "Weekday      int64\n",
       "Hour         int64\n",
       "Temp       float64\n",
       "Rain       float64\n",
       "count        int64\n",
       "10001        int64\n",
       "10002        int64\n",
       "10003        int64\n",
       "10004        int64\n",
       "10005        int64\n",
       "10006        int64\n",
       "10007        int64\n",
       "10009        int64\n",
       "10010        int64\n",
       "10011        int64\n",
       "10012        int64\n",
       "10013        int64\n",
       "10014        int64\n",
       "10016        int64\n",
       "10017        int64\n",
       "10018        int64\n",
       "10019        int64\n",
       "10020        int64\n",
       "10021        int64\n",
       "10022        int64\n",
       "10023        int64\n",
       "10024        int64\n",
       "10025        int64\n",
       "10026        int64\n",
       "            ...   \n",
       "11374        int64\n",
       "11375        int64\n",
       "11377        int64\n",
       "11378        int64\n",
       "11379        int64\n",
       "11385        int64\n",
       "11411        int64\n",
       "11412        int64\n",
       "11413        int64\n",
       "11414        int64\n",
       "11415        int64\n",
       "11416        int64\n",
       "11417        int64\n",
       "11418        int64\n",
       "11419        int64\n",
       "11420        int64\n",
       "11421        int64\n",
       "11422        int64\n",
       "11423        int64\n",
       "11426        int64\n",
       "11427        int64\n",
       "11428        int64\n",
       "11429        int64\n",
       "11430        int64\n",
       "11432        int64\n",
       "11433        int64\n",
       "11434        int64\n",
       "11435        int64\n",
       "11436        int64\n",
       "11439        int64\n",
       "dtype: object"
      ]
     },
     "execution_count": 122,
     "metadata": {},
     "output_type": "execute_result"
    }
   ],
   "source": [
    "step_1.dtypes"
   ]
  },
  {
   "cell_type": "code",
   "execution_count": 52,
   "metadata": {
    "collapsed": false
   },
   "outputs": [],
   "source": [
    "import numpy as np\n",
    "import pandas as pd\n",
    "import os\n",
    "os.chdir(\"/Users/shuozhang/Desktop/data\")"
   ]
  },
  {
   "cell_type": "code",
   "execution_count": 9,
   "metadata": {
    "collapsed": false
   },
   "outputs": [],
   "source": [
    "import numpy as np\n",
    "import pandas as pd\n",
    "import os\n",
    "os.chdir(\"/Users/shuozhang/Desktop/data\")\n",
    "step_1=pd.read_csv('lmmodel.csv', sep='\\t', encoding='utf-8')"
   ]
  },
  {
   "cell_type": "code",
   "execution_count": 10,
   "metadata": {
    "collapsed": false
   },
   "outputs": [
    {
     "data": {
      "text/plain": [
       "(613548, 205)"
      ]
     },
     "execution_count": 10,
     "metadata": {},
     "output_type": "execute_result"
    }
   ],
   "source": [
    "step_1.shape"
   ]
  },
  {
   "cell_type": "code",
   "execution_count": 11,
   "metadata": {
    "collapsed": false
   },
   "outputs": [
    {
     "data": {
      "text/html": [
       "<div>\n",
       "<table border=\"1\" class=\"dataframe\">\n",
       "  <thead>\n",
       "    <tr style=\"text-align: right;\">\n",
       "      <th></th>\n",
       "      <th>Unnamed: 0</th>\n",
       "      <th>Month</th>\n",
       "      <th>Weekday</th>\n",
       "      <th>Hour</th>\n",
       "      <th>Temp</th>\n",
       "      <th>Rain</th>\n",
       "      <th>count</th>\n",
       "      <th>10001</th>\n",
       "      <th>10002</th>\n",
       "      <th>10003</th>\n",
       "      <th>...</th>\n",
       "      <th>11428</th>\n",
       "      <th>11429</th>\n",
       "      <th>11430</th>\n",
       "      <th>11432</th>\n",
       "      <th>11433</th>\n",
       "      <th>11434</th>\n",
       "      <th>11435</th>\n",
       "      <th>11436</th>\n",
       "      <th>11439</th>\n",
       "      <th>11451</th>\n",
       "    </tr>\n",
       "  </thead>\n",
       "  <tbody>\n",
       "    <tr>\n",
       "      <th>0</th>\n",
       "      <td>0</td>\n",
       "      <td>4</td>\n",
       "      <td>1</td>\n",
       "      <td>0</td>\n",
       "      <td>49.0</td>\n",
       "      <td>0.0</td>\n",
       "      <td>375</td>\n",
       "      <td>1</td>\n",
       "      <td>0</td>\n",
       "      <td>0</td>\n",
       "      <td>...</td>\n",
       "      <td>0</td>\n",
       "      <td>0</td>\n",
       "      <td>0</td>\n",
       "      <td>0</td>\n",
       "      <td>0</td>\n",
       "      <td>0</td>\n",
       "      <td>0</td>\n",
       "      <td>0</td>\n",
       "      <td>0</td>\n",
       "      <td>0</td>\n",
       "    </tr>\n",
       "    <tr>\n",
       "      <th>1</th>\n",
       "      <td>1</td>\n",
       "      <td>4</td>\n",
       "      <td>1</td>\n",
       "      <td>0</td>\n",
       "      <td>49.0</td>\n",
       "      <td>0.0</td>\n",
       "      <td>332</td>\n",
       "      <td>0</td>\n",
       "      <td>1</td>\n",
       "      <td>0</td>\n",
       "      <td>...</td>\n",
       "      <td>0</td>\n",
       "      <td>0</td>\n",
       "      <td>0</td>\n",
       "      <td>0</td>\n",
       "      <td>0</td>\n",
       "      <td>0</td>\n",
       "      <td>0</td>\n",
       "      <td>0</td>\n",
       "      <td>0</td>\n",
       "      <td>0</td>\n",
       "    </tr>\n",
       "    <tr>\n",
       "      <th>2</th>\n",
       "      <td>2</td>\n",
       "      <td>4</td>\n",
       "      <td>1</td>\n",
       "      <td>0</td>\n",
       "      <td>49.0</td>\n",
       "      <td>0.0</td>\n",
       "      <td>521</td>\n",
       "      <td>0</td>\n",
       "      <td>0</td>\n",
       "      <td>1</td>\n",
       "      <td>...</td>\n",
       "      <td>0</td>\n",
       "      <td>0</td>\n",
       "      <td>0</td>\n",
       "      <td>0</td>\n",
       "      <td>0</td>\n",
       "      <td>0</td>\n",
       "      <td>0</td>\n",
       "      <td>0</td>\n",
       "      <td>0</td>\n",
       "      <td>0</td>\n",
       "    </tr>\n",
       "    <tr>\n",
       "      <th>3</th>\n",
       "      <td>3</td>\n",
       "      <td>4</td>\n",
       "      <td>1</td>\n",
       "      <td>0</td>\n",
       "      <td>49.0</td>\n",
       "      <td>0.0</td>\n",
       "      <td>49</td>\n",
       "      <td>0</td>\n",
       "      <td>0</td>\n",
       "      <td>0</td>\n",
       "      <td>...</td>\n",
       "      <td>0</td>\n",
       "      <td>0</td>\n",
       "      <td>0</td>\n",
       "      <td>0</td>\n",
       "      <td>0</td>\n",
       "      <td>0</td>\n",
       "      <td>0</td>\n",
       "      <td>0</td>\n",
       "      <td>0</td>\n",
       "      <td>0</td>\n",
       "    </tr>\n",
       "    <tr>\n",
       "      <th>4</th>\n",
       "      <td>4</td>\n",
       "      <td>4</td>\n",
       "      <td>1</td>\n",
       "      <td>0</td>\n",
       "      <td>49.0</td>\n",
       "      <td>0.0</td>\n",
       "      <td>55</td>\n",
       "      <td>0</td>\n",
       "      <td>0</td>\n",
       "      <td>0</td>\n",
       "      <td>...</td>\n",
       "      <td>0</td>\n",
       "      <td>0</td>\n",
       "      <td>0</td>\n",
       "      <td>0</td>\n",
       "      <td>0</td>\n",
       "      <td>0</td>\n",
       "      <td>0</td>\n",
       "      <td>0</td>\n",
       "      <td>0</td>\n",
       "      <td>0</td>\n",
       "    </tr>\n",
       "  </tbody>\n",
       "</table>\n",
       "<p>5 rows × 205 columns</p>\n",
       "</div>"
      ],
      "text/plain": [
       "   Unnamed: 0  Month  Weekday  Hour  Temp  Rain  count  10001  10002  10003  \\\n",
       "0           0      4        1     0  49.0   0.0    375      1      0      0   \n",
       "1           1      4        1     0  49.0   0.0    332      0      1      0   \n",
       "2           2      4        1     0  49.0   0.0    521      0      0      1   \n",
       "3           3      4        1     0  49.0   0.0     49      0      0      0   \n",
       "4           4      4        1     0  49.0   0.0     55      0      0      0   \n",
       "\n",
       "   ...    11428  11429  11430  11432  11433  11434  11435  11436  11439  11451  \n",
       "0  ...        0      0      0      0      0      0      0      0      0      0  \n",
       "1  ...        0      0      0      0      0      0      0      0      0      0  \n",
       "2  ...        0      0      0      0      0      0      0      0      0      0  \n",
       "3  ...        0      0      0      0      0      0      0      0      0      0  \n",
       "4  ...        0      0      0      0      0      0      0      0      0      0  \n",
       "\n",
       "[5 rows x 205 columns]"
      ]
     },
     "execution_count": 11,
     "metadata": {},
     "output_type": "execute_result"
    }
   ],
   "source": [
    "step_1.head()"
   ]
  },
  {
   "cell_type": "code",
   "execution_count": 12,
   "metadata": {
    "collapsed": false
   },
   "outputs": [],
   "source": [
    "step_1.drop(['Unnamed: 0'], inplace=True, axis=1)"
   ]
  },
  {
   "cell_type": "code",
   "execution_count": 4,
   "metadata": {
    "collapsed": false
   },
   "outputs": [
    {
     "data": {
      "text/plain": [
       "Month        int64\n",
       "Weekday      int64\n",
       "Hour         int64\n",
       "Temp       float64\n",
       "Rain       float64\n",
       "count        int64\n",
       "10001        int64\n",
       "10002        int64\n",
       "10003        int64\n",
       "10004        int64\n",
       "10005        int64\n",
       "10006        int64\n",
       "10007        int64\n",
       "10009        int64\n",
       "10010        int64\n",
       "10011        int64\n",
       "10012        int64\n",
       "10013        int64\n",
       "10014        int64\n",
       "10016        int64\n",
       "10017        int64\n",
       "10018        int64\n",
       "10019        int64\n",
       "10020        int64\n",
       "10021        int64\n",
       "10022        int64\n",
       "10023        int64\n",
       "10024        int64\n",
       "10025        int64\n",
       "10026        int64\n",
       "            ...   \n",
       "11375        int64\n",
       "11377        int64\n",
       "11378        int64\n",
       "11379        int64\n",
       "11385        int64\n",
       "11411        int64\n",
       "11412        int64\n",
       "11413        int64\n",
       "11414        int64\n",
       "11415        int64\n",
       "11416        int64\n",
       "11417        int64\n",
       "11418        int64\n",
       "11419        int64\n",
       "11420        int64\n",
       "11421        int64\n",
       "11422        int64\n",
       "11423        int64\n",
       "11426        int64\n",
       "11427        int64\n",
       "11428        int64\n",
       "11429        int64\n",
       "11430        int64\n",
       "11432        int64\n",
       "11433        int64\n",
       "11434        int64\n",
       "11435        int64\n",
       "11436        int64\n",
       "11439        int64\n",
       "11451        int64\n",
       "dtype: object"
      ]
     },
     "execution_count": 4,
     "metadata": {},
     "output_type": "execute_result"
    }
   ],
   "source": [
    "step_1.dtypes"
   ]
  },
  {
   "cell_type": "code",
   "execution_count": 13,
   "metadata": {
    "collapsed": false
   },
   "outputs": [],
   "source": [
    "target=step_1[['count']]"
   ]
  },
  {
   "cell_type": "code",
   "execution_count": 14,
   "metadata": {
    "collapsed": false
   },
   "outputs": [
    {
     "data": {
      "text/html": [
       "<div>\n",
       "<table border=\"1\" class=\"dataframe\">\n",
       "  <thead>\n",
       "    <tr style=\"text-align: right;\">\n",
       "      <th></th>\n",
       "      <th>count</th>\n",
       "    </tr>\n",
       "  </thead>\n",
       "  <tbody>\n",
       "    <tr>\n",
       "      <th>0</th>\n",
       "      <td>375</td>\n",
       "    </tr>\n",
       "    <tr>\n",
       "      <th>1</th>\n",
       "      <td>332</td>\n",
       "    </tr>\n",
       "    <tr>\n",
       "      <th>2</th>\n",
       "      <td>521</td>\n",
       "    </tr>\n",
       "    <tr>\n",
       "      <th>3</th>\n",
       "      <td>49</td>\n",
       "    </tr>\n",
       "    <tr>\n",
       "      <th>4</th>\n",
       "      <td>55</td>\n",
       "    </tr>\n",
       "  </tbody>\n",
       "</table>\n",
       "</div>"
      ],
      "text/plain": [
       "   count\n",
       "0    375\n",
       "1    332\n",
       "2    521\n",
       "3     49\n",
       "4     55"
      ]
     },
     "execution_count": 14,
     "metadata": {},
     "output_type": "execute_result"
    }
   ],
   "source": [
    "target.head()"
   ]
  },
  {
   "cell_type": "code",
   "execution_count": 15,
   "metadata": {
    "collapsed": true
   },
   "outputs": [],
   "source": [
    "data=step_1[[col for col in step_1.columns if col not in ['count']]]"
   ]
  },
  {
   "cell_type": "code",
   "execution_count": 16,
   "metadata": {
    "collapsed": false,
    "scrolled": true
   },
   "outputs": [
    {
     "data": {
      "text/html": [
       "<div>\n",
       "<table border=\"1\" class=\"dataframe\">\n",
       "  <thead>\n",
       "    <tr style=\"text-align: right;\">\n",
       "      <th></th>\n",
       "      <th>Month</th>\n",
       "      <th>Weekday</th>\n",
       "      <th>Hour</th>\n",
       "      <th>Temp</th>\n",
       "      <th>Rain</th>\n",
       "      <th>10001</th>\n",
       "      <th>10002</th>\n",
       "      <th>10003</th>\n",
       "      <th>10004</th>\n",
       "      <th>10005</th>\n",
       "      <th>...</th>\n",
       "      <th>11428</th>\n",
       "      <th>11429</th>\n",
       "      <th>11430</th>\n",
       "      <th>11432</th>\n",
       "      <th>11433</th>\n",
       "      <th>11434</th>\n",
       "      <th>11435</th>\n",
       "      <th>11436</th>\n",
       "      <th>11439</th>\n",
       "      <th>11451</th>\n",
       "    </tr>\n",
       "  </thead>\n",
       "  <tbody>\n",
       "    <tr>\n",
       "      <th>0</th>\n",
       "      <td>4</td>\n",
       "      <td>1</td>\n",
       "      <td>0</td>\n",
       "      <td>49.0</td>\n",
       "      <td>0.0</td>\n",
       "      <td>1</td>\n",
       "      <td>0</td>\n",
       "      <td>0</td>\n",
       "      <td>0</td>\n",
       "      <td>0</td>\n",
       "      <td>...</td>\n",
       "      <td>0</td>\n",
       "      <td>0</td>\n",
       "      <td>0</td>\n",
       "      <td>0</td>\n",
       "      <td>0</td>\n",
       "      <td>0</td>\n",
       "      <td>0</td>\n",
       "      <td>0</td>\n",
       "      <td>0</td>\n",
       "      <td>0</td>\n",
       "    </tr>\n",
       "    <tr>\n",
       "      <th>1</th>\n",
       "      <td>4</td>\n",
       "      <td>1</td>\n",
       "      <td>0</td>\n",
       "      <td>49.0</td>\n",
       "      <td>0.0</td>\n",
       "      <td>0</td>\n",
       "      <td>1</td>\n",
       "      <td>0</td>\n",
       "      <td>0</td>\n",
       "      <td>0</td>\n",
       "      <td>...</td>\n",
       "      <td>0</td>\n",
       "      <td>0</td>\n",
       "      <td>0</td>\n",
       "      <td>0</td>\n",
       "      <td>0</td>\n",
       "      <td>0</td>\n",
       "      <td>0</td>\n",
       "      <td>0</td>\n",
       "      <td>0</td>\n",
       "      <td>0</td>\n",
       "    </tr>\n",
       "    <tr>\n",
       "      <th>2</th>\n",
       "      <td>4</td>\n",
       "      <td>1</td>\n",
       "      <td>0</td>\n",
       "      <td>49.0</td>\n",
       "      <td>0.0</td>\n",
       "      <td>0</td>\n",
       "      <td>0</td>\n",
       "      <td>1</td>\n",
       "      <td>0</td>\n",
       "      <td>0</td>\n",
       "      <td>...</td>\n",
       "      <td>0</td>\n",
       "      <td>0</td>\n",
       "      <td>0</td>\n",
       "      <td>0</td>\n",
       "      <td>0</td>\n",
       "      <td>0</td>\n",
       "      <td>0</td>\n",
       "      <td>0</td>\n",
       "      <td>0</td>\n",
       "      <td>0</td>\n",
       "    </tr>\n",
       "    <tr>\n",
       "      <th>3</th>\n",
       "      <td>4</td>\n",
       "      <td>1</td>\n",
       "      <td>0</td>\n",
       "      <td>49.0</td>\n",
       "      <td>0.0</td>\n",
       "      <td>0</td>\n",
       "      <td>0</td>\n",
       "      <td>0</td>\n",
       "      <td>1</td>\n",
       "      <td>0</td>\n",
       "      <td>...</td>\n",
       "      <td>0</td>\n",
       "      <td>0</td>\n",
       "      <td>0</td>\n",
       "      <td>0</td>\n",
       "      <td>0</td>\n",
       "      <td>0</td>\n",
       "      <td>0</td>\n",
       "      <td>0</td>\n",
       "      <td>0</td>\n",
       "      <td>0</td>\n",
       "    </tr>\n",
       "    <tr>\n",
       "      <th>4</th>\n",
       "      <td>4</td>\n",
       "      <td>1</td>\n",
       "      <td>0</td>\n",
       "      <td>49.0</td>\n",
       "      <td>0.0</td>\n",
       "      <td>0</td>\n",
       "      <td>0</td>\n",
       "      <td>0</td>\n",
       "      <td>0</td>\n",
       "      <td>1</td>\n",
       "      <td>...</td>\n",
       "      <td>0</td>\n",
       "      <td>0</td>\n",
       "      <td>0</td>\n",
       "      <td>0</td>\n",
       "      <td>0</td>\n",
       "      <td>0</td>\n",
       "      <td>0</td>\n",
       "      <td>0</td>\n",
       "      <td>0</td>\n",
       "      <td>0</td>\n",
       "    </tr>\n",
       "  </tbody>\n",
       "</table>\n",
       "<p>5 rows × 203 columns</p>\n",
       "</div>"
      ],
      "text/plain": [
       "   Month  Weekday  Hour  Temp  Rain  10001  10002  10003  10004  10005  ...    \\\n",
       "0      4        1     0  49.0   0.0      1      0      0      0      0  ...     \n",
       "1      4        1     0  49.0   0.0      0      1      0      0      0  ...     \n",
       "2      4        1     0  49.0   0.0      0      0      1      0      0  ...     \n",
       "3      4        1     0  49.0   0.0      0      0      0      1      0  ...     \n",
       "4      4        1     0  49.0   0.0      0      0      0      0      1  ...     \n",
       "\n",
       "   11428  11429  11430  11432  11433  11434  11435  11436  11439  11451  \n",
       "0      0      0      0      0      0      0      0      0      0      0  \n",
       "1      0      0      0      0      0      0      0      0      0      0  \n",
       "2      0      0      0      0      0      0      0      0      0      0  \n",
       "3      0      0      0      0      0      0      0      0      0      0  \n",
       "4      0      0      0      0      0      0      0      0      0      0  \n",
       "\n",
       "[5 rows x 203 columns]"
      ]
     },
     "execution_count": 16,
     "metadata": {},
     "output_type": "execute_result"
    }
   ],
   "source": [
    "data.head()"
   ]
  },
  {
   "cell_type": "code",
   "execution_count": 17,
   "metadata": {
    "collapsed": false
   },
   "outputs": [
    {
     "data": {
      "text/plain": [
       "(613548, 203)"
      ]
     },
     "execution_count": 17,
     "metadata": {},
     "output_type": "execute_result"
    }
   ],
   "source": [
    "data.shape"
   ]
  },
  {
   "cell_type": "code",
   "execution_count": 62,
   "metadata": {
    "collapsed": true
   },
   "outputs": [],
   "source": [
    "import sklearn.cross_validation as cv\n",
    "x_train, x_test, y_train, y_test = cv.train_test_split(data, target, \n",
    "  test_size=2.0/10, random_state=0)"
   ]
  },
  {
   "cell_type": "code",
   "execution_count": 11,
   "metadata": {
    "collapsed": false
   },
   "outputs": [
    {
     "data": {
      "text/plain": [
       "LinearRegression(copy_X=True, fit_intercept=True, n_jobs=1, normalize=False)"
      ]
     },
     "execution_count": 11,
     "metadata": {},
     "output_type": "execute_result"
    }
   ],
   "source": [
    "import numpy as np\n",
    "from scipy import stats\n",
    "from sklearn import linear_model\n",
    "ols = linear_model.LinearRegression()\n",
    "ols.fit(x_train, y_train)"
   ]
  },
  {
   "cell_type": "code",
   "execution_count": 12,
   "metadata": {
    "collapsed": false
   },
   "outputs": [
    {
     "data": {
      "text/plain": [
       "('training R^2: %.2f', 0.7486516205145084)"
      ]
     },
     "execution_count": 12,
     "metadata": {},
     "output_type": "execute_result"
    }
   ],
   "source": [
    "'training R^2: %.2f',ols.score(x_train, y_train)"
   ]
  },
  {
   "cell_type": "code",
   "execution_count": 14,
   "metadata": {
    "collapsed": false
   },
   "outputs": [
    {
     "data": {
      "text/plain": [
       "('testing R^2: %.2f', 0.75619013989501127)"
      ]
     },
     "execution_count": 14,
     "metadata": {},
     "output_type": "execute_result"
    }
   ],
   "source": [
    "'testing R^2: %.2f',ols.score(x_test, y_test)"
   ]
  },
  {
   "cell_type": "code",
   "execution_count": 15,
   "metadata": {
    "collapsed": false
   },
   "outputs": [
    {
     "data": {
      "text/plain": [
       "16218.902688771979"
      ]
     },
     "execution_count": 15,
     "metadata": {},
     "output_type": "execute_result"
    }
   ],
   "source": [
    "from sklearn.metrics import mean_squared_error\n",
    "mean_squared_error(y_train, ols.predict(x_train))"
   ]
  },
  {
   "cell_type": "code",
   "execution_count": 16,
   "metadata": {
    "collapsed": false
   },
   "outputs": [
    {
     "data": {
      "text/plain": [
       "15765.279169291796"
      ]
     },
     "execution_count": 16,
     "metadata": {},
     "output_type": "execute_result"
    }
   ],
   "source": [
    "mean_squared_error(y_test, ols.predict(x_test))"
   ]
  },
  {
   "cell_type": "code",
   "execution_count": 151,
   "metadata": {
    "collapsed": false
   },
   "outputs": [
    {
     "data": {
      "text/html": [
       "<div>\n",
       "<table border=\"1\" class=\"dataframe\">\n",
       "  <thead>\n",
       "    <tr style=\"text-align: right;\">\n",
       "      <th></th>\n",
       "      <th>Month</th>\n",
       "      <th>Weekday</th>\n",
       "      <th>Hour</th>\n",
       "      <th>Temp</th>\n",
       "      <th>Rain</th>\n",
       "      <th>10001</th>\n",
       "      <th>10002</th>\n",
       "      <th>10003</th>\n",
       "      <th>10004</th>\n",
       "      <th>10005</th>\n",
       "      <th>...</th>\n",
       "      <th>11428</th>\n",
       "      <th>11429</th>\n",
       "      <th>11430</th>\n",
       "      <th>11432</th>\n",
       "      <th>11433</th>\n",
       "      <th>11434</th>\n",
       "      <th>11435</th>\n",
       "      <th>11436</th>\n",
       "      <th>11439</th>\n",
       "      <th>11451</th>\n",
       "    </tr>\n",
       "  </thead>\n",
       "  <tbody>\n",
       "    <tr>\n",
       "      <th>0</th>\n",
       "      <td>4</td>\n",
       "      <td>1</td>\n",
       "      <td>0</td>\n",
       "      <td>49.0</td>\n",
       "      <td>0.0</td>\n",
       "      <td>1</td>\n",
       "      <td>0</td>\n",
       "      <td>0</td>\n",
       "      <td>0</td>\n",
       "      <td>0</td>\n",
       "      <td>...</td>\n",
       "      <td>0</td>\n",
       "      <td>0</td>\n",
       "      <td>0</td>\n",
       "      <td>0</td>\n",
       "      <td>0</td>\n",
       "      <td>0</td>\n",
       "      <td>0</td>\n",
       "      <td>0</td>\n",
       "      <td>0</td>\n",
       "      <td>0</td>\n",
       "    </tr>\n",
       "    <tr>\n",
       "      <th>1</th>\n",
       "      <td>4</td>\n",
       "      <td>1</td>\n",
       "      <td>0</td>\n",
       "      <td>49.0</td>\n",
       "      <td>0.0</td>\n",
       "      <td>0</td>\n",
       "      <td>1</td>\n",
       "      <td>0</td>\n",
       "      <td>0</td>\n",
       "      <td>0</td>\n",
       "      <td>...</td>\n",
       "      <td>0</td>\n",
       "      <td>0</td>\n",
       "      <td>0</td>\n",
       "      <td>0</td>\n",
       "      <td>0</td>\n",
       "      <td>0</td>\n",
       "      <td>0</td>\n",
       "      <td>0</td>\n",
       "      <td>0</td>\n",
       "      <td>0</td>\n",
       "    </tr>\n",
       "    <tr>\n",
       "      <th>2</th>\n",
       "      <td>4</td>\n",
       "      <td>1</td>\n",
       "      <td>0</td>\n",
       "      <td>49.0</td>\n",
       "      <td>0.0</td>\n",
       "      <td>0</td>\n",
       "      <td>0</td>\n",
       "      <td>1</td>\n",
       "      <td>0</td>\n",
       "      <td>0</td>\n",
       "      <td>...</td>\n",
       "      <td>0</td>\n",
       "      <td>0</td>\n",
       "      <td>0</td>\n",
       "      <td>0</td>\n",
       "      <td>0</td>\n",
       "      <td>0</td>\n",
       "      <td>0</td>\n",
       "      <td>0</td>\n",
       "      <td>0</td>\n",
       "      <td>0</td>\n",
       "    </tr>\n",
       "    <tr>\n",
       "      <th>3</th>\n",
       "      <td>4</td>\n",
       "      <td>1</td>\n",
       "      <td>0</td>\n",
       "      <td>49.0</td>\n",
       "      <td>0.0</td>\n",
       "      <td>0</td>\n",
       "      <td>0</td>\n",
       "      <td>0</td>\n",
       "      <td>1</td>\n",
       "      <td>0</td>\n",
       "      <td>...</td>\n",
       "      <td>0</td>\n",
       "      <td>0</td>\n",
       "      <td>0</td>\n",
       "      <td>0</td>\n",
       "      <td>0</td>\n",
       "      <td>0</td>\n",
       "      <td>0</td>\n",
       "      <td>0</td>\n",
       "      <td>0</td>\n",
       "      <td>0</td>\n",
       "    </tr>\n",
       "    <tr>\n",
       "      <th>4</th>\n",
       "      <td>4</td>\n",
       "      <td>1</td>\n",
       "      <td>0</td>\n",
       "      <td>49.0</td>\n",
       "      <td>0.0</td>\n",
       "      <td>0</td>\n",
       "      <td>0</td>\n",
       "      <td>0</td>\n",
       "      <td>0</td>\n",
       "      <td>1</td>\n",
       "      <td>...</td>\n",
       "      <td>0</td>\n",
       "      <td>0</td>\n",
       "      <td>0</td>\n",
       "      <td>0</td>\n",
       "      <td>0</td>\n",
       "      <td>0</td>\n",
       "      <td>0</td>\n",
       "      <td>0</td>\n",
       "      <td>0</td>\n",
       "      <td>0</td>\n",
       "    </tr>\n",
       "  </tbody>\n",
       "</table>\n",
       "<p>5 rows × 203 columns</p>\n",
       "</div>"
      ],
      "text/plain": [
       "   Month  Weekday  Hour  Temp  Rain  10001  10002  10003  10004  10005  ...    \\\n",
       "0      4        1     0  49.0   0.0      1      0      0      0      0  ...     \n",
       "1      4        1     0  49.0   0.0      0      1      0      0      0  ...     \n",
       "2      4        1     0  49.0   0.0      0      0      1      0      0  ...     \n",
       "3      4        1     0  49.0   0.0      0      0      0      1      0  ...     \n",
       "4      4        1     0  49.0   0.0      0      0      0      0      1  ...     \n",
       "\n",
       "   11428  11429  11430  11432  11433  11434  11435  11436  11439  11451  \n",
       "0      0      0      0      0      0      0      0      0      0      0  \n",
       "1      0      0      0      0      0      0      0      0      0      0  \n",
       "2      0      0      0      0      0      0      0      0      0      0  \n",
       "3      0      0      0      0      0      0      0      0      0      0  \n",
       "4      0      0      0      0      0      0      0      0      0      0  \n",
       "\n",
       "[5 rows x 203 columns]"
      ]
     },
     "execution_count": 151,
     "metadata": {},
     "output_type": "execute_result"
    }
   ],
   "source": [
    "data.head()"
   ]
  },
  {
   "cell_type": "code",
   "execution_count": 17,
   "metadata": {
    "collapsed": false
   },
   "outputs": [
    {
     "name": "stdout",
     "output_type": "stream",
     "text": [
      "\u001b[31mInitialization\u001b[0m\n",
      "\u001b[94m-----------------------------------------\u001b[0m\n",
      " Step |   Time |      Value |     alpha | \n",
      "    1 | 00m48s | \u001b[35m-16229.75479\u001b[0m | \u001b[32m   2.1528\u001b[0m | \n",
      "    2 | 00m44s | -16229.94514 |    4.5198 | \n",
      "\u001b[31mBayesian Optimization\u001b[0m\n",
      "\u001b[94m-----------------------------------------\u001b[0m\n",
      " Step |   Time |      Value |     alpha | \n",
      "    3 | 00m48s | -16229.75566 |    2.1697 | \n",
      "    4 | 00m41s | \u001b[35m-16229.71486\u001b[0m | \u001b[32m   1.0765\u001b[0m | \n",
      "    5 | 01m55s | \u001b[35m-16229.70894\u001b[0m | \u001b[32m   0.0000\u001b[0m | \n",
      "    6 | 00m55s | \u001b[35m-16229.70739\u001b[0m | \u001b[32m   0.4542\u001b[0m | \n",
      "    7 | 00m44s | -16230.44216 |    8.0000 | \n",
      "    8 | 00m50s | -16229.70776 |    0.2423 | \n",
      "    9 | 00m48s | -16229.70851 |    0.6618 | \n",
      "   10 | 00m41s | \u001b[35m-16229.70735\u001b[0m | \u001b[32m   0.3806\u001b[0m | \n",
      "   11 | 00m41s | \u001b[35m-16229.70734\u001b[0m | \u001b[32m   0.4010\u001b[0m | \n",
      "   12 | 00m40s | \u001b[35m-16229.70734\u001b[0m | \u001b[32m   0.3985\u001b[0m | \n",
      "Final Results\n",
      "Ridge: -16229.707340\n"
     ]
    }
   ],
   "source": [
    "from __future__ import print_function\n",
    "from __future__ import division\n",
    "from sklearn.cross_validation import cross_val_score\n",
    "from sklearn import linear_model\n",
    "from bayes_opt import BayesianOptimization\n",
    "from sklearn import metrics\n",
    "import math\n",
    "data=x_train\n",
    "target=y_train\n",
    "def Ridgecv(alpha):\n",
    "    return cross_val_score(linear_model.Ridge(alpha=float(alpha), random_state=2),\n",
    "                           data, target, 'mean_squared_error', cv=5).mean()\n",
    "\n",
    "if __name__ == \"__main__\":\n",
    "\n",
    "    RidgeBO = BayesianOptimization(Ridgecv, {'alpha': (0, 8)})\n",
    "    RidgeBO.maximize(init_points=2, n_iter = 10)\n",
    "    print('Final Results')\n",
    "    print('Ridge: %f' % RidgeBO.res['max']['max_val'])"
   ]
  },
  {
   "cell_type": "code",
   "execution_count": null,
   "metadata": {
    "collapsed": true
   },
   "outputs": [],
   "source": [
    "#Value |     alpha | \n",
    "#-16229.70739 |    0.4542"
   ]
  },
  {
   "cell_type": "code",
   "execution_count": 18,
   "metadata": {
    "collapsed": false
   },
   "outputs": [
    {
     "data": {
      "text/plain": [
       "Ridge(alpha=0.3985, copy_X=True, fit_intercept=True, max_iter=None,\n",
       "   normalize=False, random_state=None, solver='auto', tol=0.001)"
      ]
     },
     "execution_count": 18,
     "metadata": {},
     "output_type": "execute_result"
    }
   ],
   "source": [
    "ridge = linear_model.Ridge(alpha=0.3985)\n",
    "ridge.fit(x_train, y_train)"
   ]
  },
  {
   "cell_type": "code",
   "execution_count": 19,
   "metadata": {
    "collapsed": false
   },
   "outputs": [
    {
     "data": {
      "text/plain": [
       "0.74865158708202273"
      ]
     },
     "execution_count": 19,
     "metadata": {},
     "output_type": "execute_result"
    }
   ],
   "source": [
    "ridge.score(x_train, y_train)"
   ]
  },
  {
   "cell_type": "code",
   "execution_count": 20,
   "metadata": {
    "collapsed": false
   },
   "outputs": [
    {
     "data": {
      "text/plain": [
       "0.74865158708202273"
      ]
     },
     "execution_count": 20,
     "metadata": {},
     "output_type": "execute_result"
    }
   ],
   "source": [
    "ridge.score(x_train, y_train)"
   ]
  },
  {
   "cell_type": "code",
   "execution_count": 110,
   "metadata": {
    "collapsed": false
   },
   "outputs": [
    {
     "data": {
      "text/plain": [
       "0.75190608898197675"
      ]
     },
     "execution_count": 110,
     "metadata": {},
     "output_type": "execute_result"
    }
   ],
   "source": [
    "ridge.score(x_test, y_test)"
   ]
  },
  {
   "cell_type": "code",
   "execution_count": 21,
   "metadata": {
    "collapsed": false
   },
   "outputs": [
    {
     "data": {
      "text/plain": [
       "16218.904846089375"
      ]
     },
     "execution_count": 21,
     "metadata": {},
     "output_type": "execute_result"
    }
   ],
   "source": [
    "mean_squared_error(y_train, ridge.predict(x_train))"
   ]
  },
  {
   "cell_type": "code",
   "execution_count": 22,
   "metadata": {
    "collapsed": false
   },
   "outputs": [
    {
     "data": {
      "text/plain": [
       "15765.342815939628"
      ]
     },
     "execution_count": 22,
     "metadata": {},
     "output_type": "execute_result"
    }
   ],
   "source": [
    "mean_squared_error(y_test, ridge.predict(x_test))"
   ]
  },
  {
   "cell_type": "code",
   "execution_count": 18,
   "metadata": {
    "collapsed": false
   },
   "outputs": [],
   "source": [
    "#feature engineering\n",
    "import sklearn.cross_validation as cv\n",
    "x_trainsub, x_testsub, y_trainsub, y_testsub = cv.train_test_split(data, target, \n",
    "  test_size=9.0/10, random_state=0)"
   ]
  },
  {
   "cell_type": "code",
   "execution_count": 22,
   "metadata": {
    "collapsed": true
   },
   "outputs": [],
   "source": [
    "from sklearn.ensemble import RandomForestRegressor"
   ]
  },
  {
   "cell_type": "code",
   "execution_count": 23,
   "metadata": {
    "collapsed": false
   },
   "outputs": [],
   "source": [
    "RFR=RandomForestRegressor(max_features=14,n_estimators=300)"
   ]
  },
  {
   "cell_type": "code",
   "execution_count": 25,
   "metadata": {
    "collapsed": false
   },
   "outputs": [
    {
     "name": "stderr",
     "output_type": "stream",
     "text": [
      "/Users/shuozhang/anaconda/lib/python2.7/site-packages/ipykernel/__main__.py:1: DataConversionWarning: A column-vector y was passed when a 1d array was expected. Please change the shape of y to (n_samples,), for example using ravel().\n",
      "  if __name__ == '__main__':\n"
     ]
    },
    {
     "data": {
      "text/plain": [
       "RandomForestRegressor(bootstrap=True, criterion='mse', max_depth=None,\n",
       "           max_features=14, max_leaf_nodes=None, min_samples_leaf=1,\n",
       "           min_samples_split=2, min_weight_fraction_leaf=0.0,\n",
       "           n_estimators=300, n_jobs=1, oob_score=False, random_state=None,\n",
       "           verbose=0, warm_start=False)"
      ]
     },
     "execution_count": 25,
     "metadata": {},
     "output_type": "execute_result"
    }
   ],
   "source": [
    "RFR.fit(x_trainsub, y_trainsub)"
   ]
  },
  {
   "cell_type": "code",
   "execution_count": 26,
   "metadata": {
    "collapsed": false
   },
   "outputs": [
    {
     "data": {
      "text/plain": [
       "array([('Hour', 0.12729397179125934), ('10019', 0.1182810466811086),\n",
       "       ('10016', 0.07787883494352378), ('10022', 0.06468753955236582),\n",
       "       ('10011', 0.05955491515061628), ('10001', 0.05597750554921143),\n",
       "       ('10003', 0.052201361015980934), ('Temp', 0.03788923526999576),\n",
       "       ('Weekday', 0.03508408378412548), ('10036', 0.03452552437616951),\n",
       "       ('10023', 0.03267357463523955), ('10017', 0.03013723700904612),\n",
       "       ('10021', 0.02717078757184333), ('10012', 0.023182136918887847),\n",
       "       ('10010', 0.023148965006179075), ('10065', 0.022946323733158924),\n",
       "       ('10014', 0.017522256217495518), ('10028', 0.01702042107917143),\n",
       "       ('Month', 0.016773592551213797), ('10024', 0.013230931801299549),\n",
       "       ('10018', 0.013100258709988882), ('10013', 0.012374116934498861),\n",
       "       ('10025', 0.011245050347024374), ('10128', 0.01011023606571611),\n",
       "       ('10009', 0.010003418718409483), ('10002', 0.009625871548338397),\n",
       "       ('11369', 0.008365745351010352), ('Rain', 0.004140816423970791),\n",
       "       ('10035', 0.003644764691825184), ('10075', 0.0033233634004036735),\n",
       "       ('10037', 0.003198369287806918), ('11211', 0.002194305948040862),\n",
       "       ('11201', 0.002129741422548424), ('10029', 0.0020144183098421355),\n",
       "       ('10038', 0.0015826167406570403), ('10007', 0.0012811987732840777),\n",
       "       ('10027', 0.0011112462838528334), ('11101', 0.0007614430500329467),\n",
       "       ('10005', 0.0006750379901864159), ('11249', 0.0006286332756799801),\n",
       "       ('11217', 0.0005380348608911917), ('11373', 0.000460027942408308),\n",
       "       ('10004', 0.00038184729994094637), ('10026', 0.0003079539948021345),\n",
       "       ('11210', 0.00030001938508249785),\n",
       "       ('11215', 0.00028789315478913583), ('11432', 0.000252366884432473),\n",
       "       ('11222', 0.00024519373346884376),\n",
       "       ('11213', 0.00023760694442728658), ('11377', 0.0002330978393980284),\n",
       "       ('10472', 0.000228908617579124), ('11218', 0.00022888124335768007),\n",
       "       ('11378', 0.00022011839533495192), ('11106', 0.0001830470621243799),\n",
       "       ('11207', 0.00018277296637053423),\n",
       "       ('11436', 0.00017900114248298396),\n",
       "       ('11103', 0.00017311233379030644), ('11203', 0.0001695666686844477),\n",
       "       ('11226', 0.00016678557210818583),\n",
       "       ('11385', 0.00016051784056407212),\n",
       "       ('10282', 0.00016012069286995873),\n",
       "       ('10457', 0.00016009082020294497), ('11355', 0.000159953248177322),\n",
       "       ('10460', 0.00015816824889717057),\n",
       "       ('11232', 0.00013987112054258063),\n",
       "       ('10455', 0.00013400781304115893),\n",
       "       ('11225', 0.00013334648412250015), ('11206', 0.0001293123747301961),\n",
       "       ('11238', 0.0001266944272910384), ('10459', 0.00012447612130389062),\n",
       "       ('10453', 0.00012422398806029907), ('11430', 0.0001225066416967579),\n",
       "       ('11367', 0.00012065121436364426),\n",
       "       ('11230', 0.00011872417673552508),\n",
       "       ('11235', 0.00011626134886311495),\n",
       "       ('10044', 0.00011546302117073258), ('11231', 0.0001153063059556373),\n",
       "       ('10462', 0.00011329943391918384),\n",
       "       ('10039', 0.00011110818267419177),\n",
       "       ('10006', 0.00010893017107597656),\n",
       "       ('10454', 0.00010846047930215439),\n",
       "       ('10452', 0.00010845079700120953),\n",
       "       ('10031', 0.00010762709475581645),\n",
       "       ('11420', 0.00010738131968425392), ('10467', 9.330753714438522e-05),\n",
       "       ('11370', 9.099195198691523e-05), ('11212', 8.870576411101574e-05),\n",
       "       ('11374', 8.748438137704052e-05), ('11375', 8.352218694521405e-05),\n",
       "       ('10468', 8.233110582769296e-05), ('11205', 8.157570978103647e-05),\n",
       "       ('11224', 8.12752009483396e-05), ('10463', 7.964171226197807e-05),\n",
       "       ('11102', 7.79853742274274e-05), ('10473', 7.786518652722856e-05),\n",
       "       ('11379', 7.768092233584981e-05), ('10032', 7.567090720179636e-05),\n",
       "       ('11234', 7.249105932787256e-05), ('11209', 7.183271194839198e-05),\n",
       "       ('10461', 6.746215564622651e-05), ('11354', 6.543204141604657e-05),\n",
       "       ('10456', 6.477123306297135e-05), ('11220', 6.107914666782772e-05),\n",
       "       ('11415', 5.919300354640708e-05), ('11233', 5.876684266824934e-05),\n",
       "       ('11216', 5.621092427927042e-05), ('10280', 5.5931043028490124e-05),\n",
       "       ('11418', 5.52568496635967e-05), ('11208', 5.52229070244096e-05),\n",
       "       ('10281', 5.398180618405503e-05), ('10458', 5.0517394068739436e-05),\n",
       "       ('11237', 4.733442873909558e-05), ('11236', 4.601094414980757e-05),\n",
       "       ('11419', 4.410222401922544e-05), ('11371', 4.293912988798574e-05),\n",
       "       ('10107', 4.217324487224495e-05), ('10069', 4.038494174925964e-05),\n",
       "       ('10048', 3.972045052762676e-05), ('10469', 3.902589142331941e-05),\n",
       "       ('11219', 3.8959627781365606e-05), ('11221', 3.590553159103358e-05),\n",
       "       ('11368', 3.5205943075295956e-05),\n",
       "       ('11223', 3.4178111901107484e-05), ('11104', 3.379470788857889e-05),\n",
       "       ('10034', 3.122166653813298e-05), ('10030', 3.0255445957526357e-05),\n",
       "       ('11435', 2.9847148696787133e-05),\n",
       "       ('10168', 2.7864159286474343e-05),\n",
       "       ('10451', 2.7405985800051096e-05),\n",
       "       ('11105', 2.7298879709179887e-05),\n",
       "       ('10033', 2.7066923075538703e-05),\n",
       "       ('10270', 2.6757912835016317e-05), ('11372', 2.631852083300274e-05),\n",
       "       ('11434', 2.574713473071804e-05), ('10471', 2.329096010014964e-05),\n",
       "       ('10020', 2.2496997841669162e-05),\n",
       "       ('10155', 2.2150439811860847e-05),\n",
       "       ('10112', 2.2102932328046298e-05),\n",
       "       ('11433', 2.1076702072650344e-05),\n",
       "       ('10040', 2.0569007088092973e-05),\n",
       "       ('10153', 2.0121433136002307e-05),\n",
       "       ('11421', 1.7575989137968124e-05), ('11214', 1.731498812469903e-05),\n",
       "       ('10465', 1.7134734631623026e-05),\n",
       "       ('11229', 1.5700659669355723e-05),\n",
       "       ('10154', 1.4542869378920964e-05),\n",
       "       ('11228', 1.1748611144539608e-05),\n",
       "       ('11417', 1.1686134544049956e-05),\n",
       "       ('11120', 1.0450164924771924e-05), ('10470', 9.942316870522657e-06),\n",
       "       ('10474', 9.895212330160584e-06), ('10466', 9.153345655712629e-06),\n",
       "       ('11204', 9.12919446620317e-06), ('11361', 7.999850038183055e-06),\n",
       "       ('10475', 7.830438114514387e-06), ('11365', 7.5488771505644545e-06),\n",
       "       ('11416', 6.390448044188941e-06), ('11358', 5.176924900253064e-06),\n",
       "       ('11422', 4.7034654899378785e-06), ('11239', 4.61113300064568e-06),\n",
       "       ('11356', 4.609565926854578e-06), ('11357', 4.47506673277483e-06),\n",
       "       ('11366', 4.474512124656587e-06), ('11413', 4.247380853786616e-06),\n",
       "       ('11423', 3.883209340348673e-06), ('11427', 3.800746228798569e-06),\n",
       "       ('11360', 3.6302629030283498e-06),\n",
       "       ('11414', 3.5007438451911786e-06), ('11364', 3.236054423167012e-06),\n",
       "       ('11426', 2.9767175045231023e-06), ('11412', 2.855641441049762e-06),\n",
       "       ('11429', 2.5229250367584204e-06),\n",
       "       ('10301', 2.3799480794535945e-06), ('11001', 2.210691390611789e-06),\n",
       "       ('11428', 2.1892449394599116e-06),\n",
       "       ('11003', 2.1372350308839567e-06),\n",
       "       ('10464', 2.0910843714627616e-06),\n",
       "       ('10305', 1.8876730663182553e-06), ('11451', 1.822302528566419e-06),\n",
       "       ('11252', 1.5772144733078808e-06),\n",
       "       ('10115', 1.3820488438249958e-06),\n",
       "       ('11005', 1.0621345836668982e-06),\n",
       "       ('10314', 1.0181320845974756e-06), ('10275', 9.774141511002257e-07),\n",
       "       ('11411', 9.016721531139528e-07), ('11363', 8.999806292565243e-07),\n",
       "       ('11004', 8.756033858971873e-07), ('11251', 8.510621093200615e-07),\n",
       "       ('11362', 8.432389360390409e-07), ('10302', 6.229061698796461e-07),\n",
       "       ('10304', 4.811722644375764e-07), ('10303', 3.9858531589570756e-07),\n",
       "       ('10306', 3.35238520863961e-07), ('10312', 2.371058950758987e-07),\n",
       "       ('11439', 1.227177538787054e-07), ('10310', 1.2047383886251106e-07),\n",
       "       ('10278', 5.4692192909814625e-08),\n",
       "       ('10308', 5.1804185662102945e-08),\n",
       "       ('10307', 5.0353354379930926e-08), ('10309', 4.015947141855379e-08),\n",
       "       ('11359', 2.447520817022592e-08), ('10124', 3.644953916698423e-09),\n",
       "       ('10203', 0.0)], \n",
       "      dtype=[('feature', 'S10'), ('importance', '<f8')])"
      ]
     },
     "execution_count": 26,
     "metadata": {},
     "output_type": "execute_result"
    }
   ],
   "source": [
    "feature_imprtance = zip(x_trainsub.columns, RFR.feature_importances_)\n",
    "dtype = [('feature', 'S10'), ('importance', 'float')]\n",
    "feature_imprtance = np.array(feature_imprtance, dtype = dtype)\n",
    "feature_sort = np.sort(feature_imprtance, order='importance')[::-1]\n",
    "feature_sort"
   ]
  },
  {
   "cell_type": "code",
   "execution_count": 27,
   "metadata": {
    "collapsed": true
   },
   "outputs": [],
   "source": [
    "df=pd.DataFrame(feature_sort)"
   ]
  },
  {
   "cell_type": "code",
   "execution_count": 29,
   "metadata": {
    "collapsed": false
   },
   "outputs": [
    {
     "data": {
      "text/html": [
       "<div>\n",
       "<table border=\"1\" class=\"dataframe\">\n",
       "  <thead>\n",
       "    <tr style=\"text-align: right;\">\n",
       "      <th></th>\n",
       "      <th>feature</th>\n",
       "      <th>importance</th>\n",
       "    </tr>\n",
       "  </thead>\n",
       "  <tbody>\n",
       "    <tr>\n",
       "      <th>0</th>\n",
       "      <td>Hour</td>\n",
       "      <td>1.272940e-01</td>\n",
       "    </tr>\n",
       "    <tr>\n",
       "      <th>1</th>\n",
       "      <td>10019</td>\n",
       "      <td>1.182810e-01</td>\n",
       "    </tr>\n",
       "    <tr>\n",
       "      <th>2</th>\n",
       "      <td>10016</td>\n",
       "      <td>7.787883e-02</td>\n",
       "    </tr>\n",
       "    <tr>\n",
       "      <th>3</th>\n",
       "      <td>10022</td>\n",
       "      <td>6.468754e-02</td>\n",
       "    </tr>\n",
       "    <tr>\n",
       "      <th>4</th>\n",
       "      <td>10011</td>\n",
       "      <td>5.955492e-02</td>\n",
       "    </tr>\n",
       "    <tr>\n",
       "      <th>5</th>\n",
       "      <td>10001</td>\n",
       "      <td>5.597751e-02</td>\n",
       "    </tr>\n",
       "    <tr>\n",
       "      <th>6</th>\n",
       "      <td>10003</td>\n",
       "      <td>5.220136e-02</td>\n",
       "    </tr>\n",
       "    <tr>\n",
       "      <th>7</th>\n",
       "      <td>Temp</td>\n",
       "      <td>3.788924e-02</td>\n",
       "    </tr>\n",
       "    <tr>\n",
       "      <th>8</th>\n",
       "      <td>Weekday</td>\n",
       "      <td>3.508408e-02</td>\n",
       "    </tr>\n",
       "    <tr>\n",
       "      <th>9</th>\n",
       "      <td>10036</td>\n",
       "      <td>3.452552e-02</td>\n",
       "    </tr>\n",
       "    <tr>\n",
       "      <th>10</th>\n",
       "      <td>10023</td>\n",
       "      <td>3.267357e-02</td>\n",
       "    </tr>\n",
       "    <tr>\n",
       "      <th>11</th>\n",
       "      <td>10017</td>\n",
       "      <td>3.013724e-02</td>\n",
       "    </tr>\n",
       "    <tr>\n",
       "      <th>12</th>\n",
       "      <td>10021</td>\n",
       "      <td>2.717079e-02</td>\n",
       "    </tr>\n",
       "    <tr>\n",
       "      <th>13</th>\n",
       "      <td>10012</td>\n",
       "      <td>2.318214e-02</td>\n",
       "    </tr>\n",
       "    <tr>\n",
       "      <th>14</th>\n",
       "      <td>10010</td>\n",
       "      <td>2.314897e-02</td>\n",
       "    </tr>\n",
       "    <tr>\n",
       "      <th>15</th>\n",
       "      <td>10065</td>\n",
       "      <td>2.294632e-02</td>\n",
       "    </tr>\n",
       "    <tr>\n",
       "      <th>16</th>\n",
       "      <td>10014</td>\n",
       "      <td>1.752226e-02</td>\n",
       "    </tr>\n",
       "    <tr>\n",
       "      <th>17</th>\n",
       "      <td>10028</td>\n",
       "      <td>1.702042e-02</td>\n",
       "    </tr>\n",
       "    <tr>\n",
       "      <th>18</th>\n",
       "      <td>Month</td>\n",
       "      <td>1.677359e-02</td>\n",
       "    </tr>\n",
       "    <tr>\n",
       "      <th>19</th>\n",
       "      <td>10024</td>\n",
       "      <td>1.323093e-02</td>\n",
       "    </tr>\n",
       "    <tr>\n",
       "      <th>20</th>\n",
       "      <td>10018</td>\n",
       "      <td>1.310026e-02</td>\n",
       "    </tr>\n",
       "    <tr>\n",
       "      <th>21</th>\n",
       "      <td>10013</td>\n",
       "      <td>1.237412e-02</td>\n",
       "    </tr>\n",
       "    <tr>\n",
       "      <th>22</th>\n",
       "      <td>10025</td>\n",
       "      <td>1.124505e-02</td>\n",
       "    </tr>\n",
       "    <tr>\n",
       "      <th>23</th>\n",
       "      <td>10128</td>\n",
       "      <td>1.011024e-02</td>\n",
       "    </tr>\n",
       "    <tr>\n",
       "      <th>24</th>\n",
       "      <td>10009</td>\n",
       "      <td>1.000342e-02</td>\n",
       "    </tr>\n",
       "    <tr>\n",
       "      <th>25</th>\n",
       "      <td>10002</td>\n",
       "      <td>9.625872e-03</td>\n",
       "    </tr>\n",
       "    <tr>\n",
       "      <th>26</th>\n",
       "      <td>11369</td>\n",
       "      <td>8.365745e-03</td>\n",
       "    </tr>\n",
       "    <tr>\n",
       "      <th>27</th>\n",
       "      <td>Rain</td>\n",
       "      <td>4.140816e-03</td>\n",
       "    </tr>\n",
       "    <tr>\n",
       "      <th>28</th>\n",
       "      <td>10035</td>\n",
       "      <td>3.644765e-03</td>\n",
       "    </tr>\n",
       "    <tr>\n",
       "      <th>29</th>\n",
       "      <td>10075</td>\n",
       "      <td>3.323363e-03</td>\n",
       "    </tr>\n",
       "    <tr>\n",
       "      <th>...</th>\n",
       "      <td>...</td>\n",
       "      <td>...</td>\n",
       "    </tr>\n",
       "    <tr>\n",
       "      <th>173</th>\n",
       "      <td>11001</td>\n",
       "      <td>2.210691e-06</td>\n",
       "    </tr>\n",
       "    <tr>\n",
       "      <th>174</th>\n",
       "      <td>11428</td>\n",
       "      <td>2.189245e-06</td>\n",
       "    </tr>\n",
       "    <tr>\n",
       "      <th>175</th>\n",
       "      <td>11003</td>\n",
       "      <td>2.137235e-06</td>\n",
       "    </tr>\n",
       "    <tr>\n",
       "      <th>176</th>\n",
       "      <td>10464</td>\n",
       "      <td>2.091084e-06</td>\n",
       "    </tr>\n",
       "    <tr>\n",
       "      <th>177</th>\n",
       "      <td>10305</td>\n",
       "      <td>1.887673e-06</td>\n",
       "    </tr>\n",
       "    <tr>\n",
       "      <th>178</th>\n",
       "      <td>11451</td>\n",
       "      <td>1.822303e-06</td>\n",
       "    </tr>\n",
       "    <tr>\n",
       "      <th>179</th>\n",
       "      <td>11252</td>\n",
       "      <td>1.577214e-06</td>\n",
       "    </tr>\n",
       "    <tr>\n",
       "      <th>180</th>\n",
       "      <td>10115</td>\n",
       "      <td>1.382049e-06</td>\n",
       "    </tr>\n",
       "    <tr>\n",
       "      <th>181</th>\n",
       "      <td>11005</td>\n",
       "      <td>1.062135e-06</td>\n",
       "    </tr>\n",
       "    <tr>\n",
       "      <th>182</th>\n",
       "      <td>10314</td>\n",
       "      <td>1.018132e-06</td>\n",
       "    </tr>\n",
       "    <tr>\n",
       "      <th>183</th>\n",
       "      <td>10275</td>\n",
       "      <td>9.774142e-07</td>\n",
       "    </tr>\n",
       "    <tr>\n",
       "      <th>184</th>\n",
       "      <td>11411</td>\n",
       "      <td>9.016722e-07</td>\n",
       "    </tr>\n",
       "    <tr>\n",
       "      <th>185</th>\n",
       "      <td>11363</td>\n",
       "      <td>8.999806e-07</td>\n",
       "    </tr>\n",
       "    <tr>\n",
       "      <th>186</th>\n",
       "      <td>11004</td>\n",
       "      <td>8.756034e-07</td>\n",
       "    </tr>\n",
       "    <tr>\n",
       "      <th>187</th>\n",
       "      <td>11251</td>\n",
       "      <td>8.510621e-07</td>\n",
       "    </tr>\n",
       "    <tr>\n",
       "      <th>188</th>\n",
       "      <td>11362</td>\n",
       "      <td>8.432389e-07</td>\n",
       "    </tr>\n",
       "    <tr>\n",
       "      <th>189</th>\n",
       "      <td>10302</td>\n",
       "      <td>6.229062e-07</td>\n",
       "    </tr>\n",
       "    <tr>\n",
       "      <th>190</th>\n",
       "      <td>10304</td>\n",
       "      <td>4.811723e-07</td>\n",
       "    </tr>\n",
       "    <tr>\n",
       "      <th>191</th>\n",
       "      <td>10303</td>\n",
       "      <td>3.985853e-07</td>\n",
       "    </tr>\n",
       "    <tr>\n",
       "      <th>192</th>\n",
       "      <td>10306</td>\n",
       "      <td>3.352385e-07</td>\n",
       "    </tr>\n",
       "    <tr>\n",
       "      <th>193</th>\n",
       "      <td>10312</td>\n",
       "      <td>2.371059e-07</td>\n",
       "    </tr>\n",
       "    <tr>\n",
       "      <th>194</th>\n",
       "      <td>11439</td>\n",
       "      <td>1.227178e-07</td>\n",
       "    </tr>\n",
       "    <tr>\n",
       "      <th>195</th>\n",
       "      <td>10310</td>\n",
       "      <td>1.204738e-07</td>\n",
       "    </tr>\n",
       "    <tr>\n",
       "      <th>196</th>\n",
       "      <td>10278</td>\n",
       "      <td>5.469219e-08</td>\n",
       "    </tr>\n",
       "    <tr>\n",
       "      <th>197</th>\n",
       "      <td>10308</td>\n",
       "      <td>5.180419e-08</td>\n",
       "    </tr>\n",
       "    <tr>\n",
       "      <th>198</th>\n",
       "      <td>10307</td>\n",
       "      <td>5.035335e-08</td>\n",
       "    </tr>\n",
       "    <tr>\n",
       "      <th>199</th>\n",
       "      <td>10309</td>\n",
       "      <td>4.015947e-08</td>\n",
       "    </tr>\n",
       "    <tr>\n",
       "      <th>200</th>\n",
       "      <td>11359</td>\n",
       "      <td>2.447521e-08</td>\n",
       "    </tr>\n",
       "    <tr>\n",
       "      <th>201</th>\n",
       "      <td>10124</td>\n",
       "      <td>3.644954e-09</td>\n",
       "    </tr>\n",
       "    <tr>\n",
       "      <th>202</th>\n",
       "      <td>10203</td>\n",
       "      <td>0.000000e+00</td>\n",
       "    </tr>\n",
       "  </tbody>\n",
       "</table>\n",
       "<p>203 rows × 2 columns</p>\n",
       "</div>"
      ],
      "text/plain": [
       "     feature    importance\n",
       "0       Hour  1.272940e-01\n",
       "1      10019  1.182810e-01\n",
       "2      10016  7.787883e-02\n",
       "3      10022  6.468754e-02\n",
       "4      10011  5.955492e-02\n",
       "5      10001  5.597751e-02\n",
       "6      10003  5.220136e-02\n",
       "7       Temp  3.788924e-02\n",
       "8    Weekday  3.508408e-02\n",
       "9      10036  3.452552e-02\n",
       "10     10023  3.267357e-02\n",
       "11     10017  3.013724e-02\n",
       "12     10021  2.717079e-02\n",
       "13     10012  2.318214e-02\n",
       "14     10010  2.314897e-02\n",
       "15     10065  2.294632e-02\n",
       "16     10014  1.752226e-02\n",
       "17     10028  1.702042e-02\n",
       "18     Month  1.677359e-02\n",
       "19     10024  1.323093e-02\n",
       "20     10018  1.310026e-02\n",
       "21     10013  1.237412e-02\n",
       "22     10025  1.124505e-02\n",
       "23     10128  1.011024e-02\n",
       "24     10009  1.000342e-02\n",
       "25     10002  9.625872e-03\n",
       "26     11369  8.365745e-03\n",
       "27      Rain  4.140816e-03\n",
       "28     10035  3.644765e-03\n",
       "29     10075  3.323363e-03\n",
       "..       ...           ...\n",
       "173    11001  2.210691e-06\n",
       "174    11428  2.189245e-06\n",
       "175    11003  2.137235e-06\n",
       "176    10464  2.091084e-06\n",
       "177    10305  1.887673e-06\n",
       "178    11451  1.822303e-06\n",
       "179    11252  1.577214e-06\n",
       "180    10115  1.382049e-06\n",
       "181    11005  1.062135e-06\n",
       "182    10314  1.018132e-06\n",
       "183    10275  9.774142e-07\n",
       "184    11411  9.016722e-07\n",
       "185    11363  8.999806e-07\n",
       "186    11004  8.756034e-07\n",
       "187    11251  8.510621e-07\n",
       "188    11362  8.432389e-07\n",
       "189    10302  6.229062e-07\n",
       "190    10304  4.811723e-07\n",
       "191    10303  3.985853e-07\n",
       "192    10306  3.352385e-07\n",
       "193    10312  2.371059e-07\n",
       "194    11439  1.227178e-07\n",
       "195    10310  1.204738e-07\n",
       "196    10278  5.469219e-08\n",
       "197    10308  5.180419e-08\n",
       "198    10307  5.035335e-08\n",
       "199    10309  4.015947e-08\n",
       "200    11359  2.447521e-08\n",
       "201    10124  3.644954e-09\n",
       "202    10203  0.000000e+00\n",
       "\n",
       "[203 rows x 2 columns]"
      ]
     },
     "execution_count": 29,
     "metadata": {},
     "output_type": "execute_result"
    }
   ],
   "source": [
    "df"
   ]
  },
  {
   "cell_type": "code",
   "execution_count": 30,
   "metadata": {
    "collapsed": true
   },
   "outputs": [],
   "source": [
    "import sklearn.cross_validation as cv\n",
    "x_train, x_test, y_train, y_test = cv.train_test_split(data, target, \n",
    "  test_size=2.0/10, random_state=0)"
   ]
  },
  {
   "cell_type": "code",
   "execution_count": 31,
   "metadata": {
    "collapsed": false
   },
   "outputs": [
    {
     "name": "stdout",
     "output_type": "stream",
     "text": [
      "(490838, 203)\n"
     ]
    }
   ],
   "source": [
    "print x_train.shape"
   ]
  },
  {
   "cell_type": "code",
   "execution_count": 32,
   "metadata": {
    "collapsed": false
   },
   "outputs": [
    {
     "name": "stderr",
     "output_type": "stream",
     "text": [
      "/Users/shuozhang/anaconda/lib/python2.7/site-packages/ipykernel/__main__.py:2: DataConversionWarning: A column-vector y was passed when a 1d array was expected. Please change the shape of y to (n_samples,), for example using ravel().\n",
      "  from ipykernel import kernelapp as app\n"
     ]
    },
    {
     "data": {
      "text/plain": [
       "RandomForestRegressor(bootstrap=True, criterion='mse', max_depth=None,\n",
       "           max_features=14, max_leaf_nodes=None, min_samples_leaf=1,\n",
       "           min_samples_split=2, min_weight_fraction_leaf=0.0,\n",
       "           n_estimators=300, n_jobs=1, oob_score=False, random_state=None,\n",
       "           verbose=0, warm_start=False)"
      ]
     },
     "execution_count": 32,
     "metadata": {},
     "output_type": "execute_result"
    }
   ],
   "source": [
    "RFR1=RandomForestRegressor(max_features=14,n_estimators=300)\n",
    "RFR1.fit(x_train, y_train)"
   ]
  },
  {
   "cell_type": "code",
   "execution_count": 38,
   "metadata": {
    "collapsed": false
   },
   "outputs": [
    {
     "data": {
      "text/plain": [
       "0.99597227970773394"
      ]
     },
     "execution_count": 38,
     "metadata": {},
     "output_type": "execute_result"
    }
   ],
   "source": [
    "RFR1.score(x_train, y_train)"
   ]
  },
  {
   "cell_type": "code",
   "execution_count": 39,
   "metadata": {
    "collapsed": false
   },
   "outputs": [
    {
     "data": {
      "text/plain": [
       "0.9744864945331192"
      ]
     },
     "execution_count": 39,
     "metadata": {},
     "output_type": "execute_result"
    }
   ],
   "source": [
    "RFR1.score(x_test, y_test)"
   ]
  },
  {
   "cell_type": "code",
   "execution_count": 45,
   "metadata": {
    "collapsed": false
   },
   "outputs": [
    {
     "data": {
      "text/plain": [
       "16.121384672409977"
      ]
     },
     "execution_count": 45,
     "metadata": {},
     "output_type": "execute_result"
    }
   ],
   "source": [
    "from sklearn.metrics import mean_squared_error\n",
    "import math\n",
    "math.sqrt(mean_squared_error(y_train, RFR1.predict(x_train)))"
   ]
  },
  {
   "cell_type": "code",
   "execution_count": 47,
   "metadata": {
    "collapsed": false
   },
   "outputs": [
    {
     "data": {
      "text/plain": [
       "40.61722668609526"
      ]
     },
     "execution_count": 47,
     "metadata": {},
     "output_type": "execute_result"
    }
   ],
   "source": [
    "math.sqrt(mean_squared_error(y_test, RFR1.predict(x_test)))"
   ]
  },
  {
   "cell_type": "code",
   "execution_count": 33,
   "metadata": {
    "collapsed": true
   },
   "outputs": [],
   "source": [
    "feature_imprtance = zip(x_train.columns, RFR1.feature_importances_)\n",
    "dtype = [('feature', 'S10'), ('importance', 'float')]\n",
    "feature_imprtance = np.array(feature_imprtance, dtype = dtype)\n",
    "feature_sort = np.sort(feature_imprtance, order='importance')[::-1]\n",
    "df1=pd.DataFrame(feature_sort)"
   ]
  },
  {
   "cell_type": "code",
   "execution_count": 34,
   "metadata": {
    "collapsed": false
   },
   "outputs": [
    {
     "data": {
      "text/html": [
       "<div>\n",
       "<table border=\"1\" class=\"dataframe\">\n",
       "  <thead>\n",
       "    <tr style=\"text-align: right;\">\n",
       "      <th></th>\n",
       "      <th>feature</th>\n",
       "      <th>importance</th>\n",
       "    </tr>\n",
       "  </thead>\n",
       "  <tbody>\n",
       "    <tr>\n",
       "      <th>0</th>\n",
       "      <td>Hour</td>\n",
       "      <td>1.443652e-01</td>\n",
       "    </tr>\n",
       "    <tr>\n",
       "      <th>1</th>\n",
       "      <td>10019</td>\n",
       "      <td>1.129466e-01</td>\n",
       "    </tr>\n",
       "    <tr>\n",
       "      <th>2</th>\n",
       "      <td>10016</td>\n",
       "      <td>8.081394e-02</td>\n",
       "    </tr>\n",
       "    <tr>\n",
       "      <th>3</th>\n",
       "      <td>10022</td>\n",
       "      <td>6.361108e-02</td>\n",
       "    </tr>\n",
       "    <tr>\n",
       "      <th>4</th>\n",
       "      <td>10003</td>\n",
       "      <td>6.055554e-02</td>\n",
       "    </tr>\n",
       "    <tr>\n",
       "      <th>5</th>\n",
       "      <td>10011</td>\n",
       "      <td>5.840734e-02</td>\n",
       "    </tr>\n",
       "    <tr>\n",
       "      <th>6</th>\n",
       "      <td>10001</td>\n",
       "      <td>5.726639e-02</td>\n",
       "    </tr>\n",
       "    <tr>\n",
       "      <th>7</th>\n",
       "      <td>Weekday</td>\n",
       "      <td>3.719214e-02</td>\n",
       "    </tr>\n",
       "    <tr>\n",
       "      <th>8</th>\n",
       "      <td>10036</td>\n",
       "      <td>3.401524e-02</td>\n",
       "    </tr>\n",
       "    <tr>\n",
       "      <th>9</th>\n",
       "      <td>10017</td>\n",
       "      <td>2.981476e-02</td>\n",
       "    </tr>\n",
       "    <tr>\n",
       "      <th>10</th>\n",
       "      <td>10023</td>\n",
       "      <td>2.957173e-02</td>\n",
       "    </tr>\n",
       "    <tr>\n",
       "      <th>11</th>\n",
       "      <td>10021</td>\n",
       "      <td>2.932532e-02</td>\n",
       "    </tr>\n",
       "    <tr>\n",
       "      <th>12</th>\n",
       "      <td>Temp</td>\n",
       "      <td>2.580635e-02</td>\n",
       "    </tr>\n",
       "    <tr>\n",
       "      <th>13</th>\n",
       "      <td>10012</td>\n",
       "      <td>2.176571e-02</td>\n",
       "    </tr>\n",
       "    <tr>\n",
       "      <th>14</th>\n",
       "      <td>10010</td>\n",
       "      <td>2.151854e-02</td>\n",
       "    </tr>\n",
       "    <tr>\n",
       "      <th>15</th>\n",
       "      <td>10065</td>\n",
       "      <td>2.091538e-02</td>\n",
       "    </tr>\n",
       "    <tr>\n",
       "      <th>16</th>\n",
       "      <td>10014</td>\n",
       "      <td>1.771519e-02</td>\n",
       "    </tr>\n",
       "    <tr>\n",
       "      <th>17</th>\n",
       "      <td>10028</td>\n",
       "      <td>1.762282e-02</td>\n",
       "    </tr>\n",
       "    <tr>\n",
       "      <th>18</th>\n",
       "      <td>10018</td>\n",
       "      <td>1.333559e-02</td>\n",
       "    </tr>\n",
       "    <tr>\n",
       "      <th>19</th>\n",
       "      <td>10013</td>\n",
       "      <td>1.212472e-02</td>\n",
       "    </tr>\n",
       "    <tr>\n",
       "      <th>20</th>\n",
       "      <td>10024</td>\n",
       "      <td>1.207099e-02</td>\n",
       "    </tr>\n",
       "    <tr>\n",
       "      <th>21</th>\n",
       "      <td>10002</td>\n",
       "      <td>1.136422e-02</td>\n",
       "    </tr>\n",
       "    <tr>\n",
       "      <th>22</th>\n",
       "      <td>10025</td>\n",
       "      <td>1.131331e-02</td>\n",
       "    </tr>\n",
       "    <tr>\n",
       "      <th>23</th>\n",
       "      <td>Month</td>\n",
       "      <td>1.091107e-02</td>\n",
       "    </tr>\n",
       "    <tr>\n",
       "      <th>24</th>\n",
       "      <td>10009</td>\n",
       "      <td>1.037249e-02</td>\n",
       "    </tr>\n",
       "    <tr>\n",
       "      <th>25</th>\n",
       "      <td>10128</td>\n",
       "      <td>1.014850e-02</td>\n",
       "    </tr>\n",
       "    <tr>\n",
       "      <th>26</th>\n",
       "      <td>11369</td>\n",
       "      <td>8.341024e-03</td>\n",
       "    </tr>\n",
       "    <tr>\n",
       "      <th>27</th>\n",
       "      <td>10035</td>\n",
       "      <td>3.632485e-03</td>\n",
       "    </tr>\n",
       "    <tr>\n",
       "      <th>28</th>\n",
       "      <td>10075</td>\n",
       "      <td>3.545174e-03</td>\n",
       "    </tr>\n",
       "    <tr>\n",
       "      <th>29</th>\n",
       "      <td>10037</td>\n",
       "      <td>3.460359e-03</td>\n",
       "    </tr>\n",
       "    <tr>\n",
       "      <th>...</th>\n",
       "      <td>...</td>\n",
       "      <td>...</td>\n",
       "    </tr>\n",
       "    <tr>\n",
       "      <th>173</th>\n",
       "      <td>11001</td>\n",
       "      <td>8.053166e-07</td>\n",
       "    </tr>\n",
       "    <tr>\n",
       "      <th>174</th>\n",
       "      <td>10301</td>\n",
       "      <td>7.728214e-07</td>\n",
       "    </tr>\n",
       "    <tr>\n",
       "      <th>175</th>\n",
       "      <td>11003</td>\n",
       "      <td>7.158168e-07</td>\n",
       "    </tr>\n",
       "    <tr>\n",
       "      <th>176</th>\n",
       "      <td>10305</td>\n",
       "      <td>7.126724e-07</td>\n",
       "    </tr>\n",
       "    <tr>\n",
       "      <th>177</th>\n",
       "      <td>11411</td>\n",
       "      <td>6.759169e-07</td>\n",
       "    </tr>\n",
       "    <tr>\n",
       "      <th>178</th>\n",
       "      <td>11362</td>\n",
       "      <td>6.662232e-07</td>\n",
       "    </tr>\n",
       "    <tr>\n",
       "      <th>179</th>\n",
       "      <td>11428</td>\n",
       "      <td>6.473511e-07</td>\n",
       "    </tr>\n",
       "    <tr>\n",
       "      <th>180</th>\n",
       "      <td>11251</td>\n",
       "      <td>5.926397e-07</td>\n",
       "    </tr>\n",
       "    <tr>\n",
       "      <th>181</th>\n",
       "      <td>11451</td>\n",
       "      <td>5.369169e-07</td>\n",
       "    </tr>\n",
       "    <tr>\n",
       "      <th>182</th>\n",
       "      <td>10115</td>\n",
       "      <td>4.956111e-07</td>\n",
       "    </tr>\n",
       "    <tr>\n",
       "      <th>183</th>\n",
       "      <td>10275</td>\n",
       "      <td>4.574860e-07</td>\n",
       "    </tr>\n",
       "    <tr>\n",
       "      <th>184</th>\n",
       "      <td>11004</td>\n",
       "      <td>4.285587e-07</td>\n",
       "    </tr>\n",
       "    <tr>\n",
       "      <th>185</th>\n",
       "      <td>10314</td>\n",
       "      <td>4.198553e-07</td>\n",
       "    </tr>\n",
       "    <tr>\n",
       "      <th>186</th>\n",
       "      <td>10303</td>\n",
       "      <td>3.323037e-07</td>\n",
       "    </tr>\n",
       "    <tr>\n",
       "      <th>187</th>\n",
       "      <td>11252</td>\n",
       "      <td>3.208309e-07</td>\n",
       "    </tr>\n",
       "    <tr>\n",
       "      <th>188</th>\n",
       "      <td>10304</td>\n",
       "      <td>2.929545e-07</td>\n",
       "    </tr>\n",
       "    <tr>\n",
       "      <th>189</th>\n",
       "      <td>11363</td>\n",
       "      <td>2.173519e-07</td>\n",
       "    </tr>\n",
       "    <tr>\n",
       "      <th>190</th>\n",
       "      <td>10302</td>\n",
       "      <td>1.357091e-07</td>\n",
       "    </tr>\n",
       "    <tr>\n",
       "      <th>191</th>\n",
       "      <td>11005</td>\n",
       "      <td>1.257668e-07</td>\n",
       "    </tr>\n",
       "    <tr>\n",
       "      <th>192</th>\n",
       "      <td>10310</td>\n",
       "      <td>1.088424e-07</td>\n",
       "    </tr>\n",
       "    <tr>\n",
       "      <th>193</th>\n",
       "      <td>10306</td>\n",
       "      <td>1.039020e-07</td>\n",
       "    </tr>\n",
       "    <tr>\n",
       "      <th>194</th>\n",
       "      <td>11439</td>\n",
       "      <td>7.967739e-08</td>\n",
       "    </tr>\n",
       "    <tr>\n",
       "      <th>195</th>\n",
       "      <td>10312</td>\n",
       "      <td>6.768683e-08</td>\n",
       "    </tr>\n",
       "    <tr>\n",
       "      <th>196</th>\n",
       "      <td>10278</td>\n",
       "      <td>4.516196e-08</td>\n",
       "    </tr>\n",
       "    <tr>\n",
       "      <th>197</th>\n",
       "      <td>10308</td>\n",
       "      <td>3.866897e-08</td>\n",
       "    </tr>\n",
       "    <tr>\n",
       "      <th>198</th>\n",
       "      <td>10309</td>\n",
       "      <td>3.421764e-08</td>\n",
       "    </tr>\n",
       "    <tr>\n",
       "      <th>199</th>\n",
       "      <td>11359</td>\n",
       "      <td>2.556596e-08</td>\n",
       "    </tr>\n",
       "    <tr>\n",
       "      <th>200</th>\n",
       "      <td>10124</td>\n",
       "      <td>1.518595e-08</td>\n",
       "    </tr>\n",
       "    <tr>\n",
       "      <th>201</th>\n",
       "      <td>10307</td>\n",
       "      <td>7.399782e-09</td>\n",
       "    </tr>\n",
       "    <tr>\n",
       "      <th>202</th>\n",
       "      <td>10203</td>\n",
       "      <td>1.115203e-09</td>\n",
       "    </tr>\n",
       "  </tbody>\n",
       "</table>\n",
       "<p>203 rows × 2 columns</p>\n",
       "</div>"
      ],
      "text/plain": [
       "     feature    importance\n",
       "0       Hour  1.443652e-01\n",
       "1      10019  1.129466e-01\n",
       "2      10016  8.081394e-02\n",
       "3      10022  6.361108e-02\n",
       "4      10003  6.055554e-02\n",
       "5      10011  5.840734e-02\n",
       "6      10001  5.726639e-02\n",
       "7    Weekday  3.719214e-02\n",
       "8      10036  3.401524e-02\n",
       "9      10017  2.981476e-02\n",
       "10     10023  2.957173e-02\n",
       "11     10021  2.932532e-02\n",
       "12      Temp  2.580635e-02\n",
       "13     10012  2.176571e-02\n",
       "14     10010  2.151854e-02\n",
       "15     10065  2.091538e-02\n",
       "16     10014  1.771519e-02\n",
       "17     10028  1.762282e-02\n",
       "18     10018  1.333559e-02\n",
       "19     10013  1.212472e-02\n",
       "20     10024  1.207099e-02\n",
       "21     10002  1.136422e-02\n",
       "22     10025  1.131331e-02\n",
       "23     Month  1.091107e-02\n",
       "24     10009  1.037249e-02\n",
       "25     10128  1.014850e-02\n",
       "26     11369  8.341024e-03\n",
       "27     10035  3.632485e-03\n",
       "28     10075  3.545174e-03\n",
       "29     10037  3.460359e-03\n",
       "..       ...           ...\n",
       "173    11001  8.053166e-07\n",
       "174    10301  7.728214e-07\n",
       "175    11003  7.158168e-07\n",
       "176    10305  7.126724e-07\n",
       "177    11411  6.759169e-07\n",
       "178    11362  6.662232e-07\n",
       "179    11428  6.473511e-07\n",
       "180    11251  5.926397e-07\n",
       "181    11451  5.369169e-07\n",
       "182    10115  4.956111e-07\n",
       "183    10275  4.574860e-07\n",
       "184    11004  4.285587e-07\n",
       "185    10314  4.198553e-07\n",
       "186    10303  3.323037e-07\n",
       "187    11252  3.208309e-07\n",
       "188    10304  2.929545e-07\n",
       "189    11363  2.173519e-07\n",
       "190    10302  1.357091e-07\n",
       "191    11005  1.257668e-07\n",
       "192    10310  1.088424e-07\n",
       "193    10306  1.039020e-07\n",
       "194    11439  7.967739e-08\n",
       "195    10312  6.768683e-08\n",
       "196    10278  4.516196e-08\n",
       "197    10308  3.866897e-08\n",
       "198    10309  3.421764e-08\n",
       "199    11359  2.556596e-08\n",
       "200    10124  1.518595e-08\n",
       "201    10307  7.399782e-09\n",
       "202    10203  1.115203e-09\n",
       "\n",
       "[203 rows x 2 columns]"
      ]
     },
     "execution_count": 34,
     "metadata": {},
     "output_type": "execute_result"
    }
   ],
   "source": [
    "df1"
   ]
  },
  {
   "cell_type": "code",
   "execution_count": 40,
   "metadata": {
    "collapsed": true
   },
   "outputs": [],
   "source": [
    "df1.to_csv('importance.csv', sep='\\t', encoding='utf-8')"
   ]
  },
  {
   "cell_type": "code",
   "execution_count": 43,
   "metadata": {
    "collapsed": false
   },
   "outputs": [
    {
     "name": "stderr",
     "output_type": "stream",
     "text": [
      "/Users/shuozhang/anaconda/lib/python2.7/site-packages/ipykernel/__main__.py:2: DataConversionWarning: A column-vector y was passed when a 1d array was expected. Please change the shape of y to (n_samples,), for example using ravel().\n",
      "  from ipykernel import kernelapp as app\n"
     ]
    },
    {
     "data": {
      "text/plain": [
       "RandomForestRegressor(bootstrap=True, criterion='mse', max_depth=None,\n",
       "           max_features=14, max_leaf_nodes=None, min_samples_leaf=1,\n",
       "           min_samples_split=2, min_weight_fraction_leaf=0.0,\n",
       "           n_estimators=500, n_jobs=1, oob_score=False, random_state=None,\n",
       "           verbose=0, warm_start=False)"
      ]
     },
     "execution_count": 43,
     "metadata": {},
     "output_type": "execute_result"
    }
   ],
   "source": [
    "RFR2=RandomForestRegressor(max_features=14,n_estimators=500)\n",
    "RFR2.fit(x_train, y_train)"
   ]
  },
  {
   "cell_type": "code",
   "execution_count": 48,
   "metadata": {
    "collapsed": false
   },
   "outputs": [
    {
     "data": {
      "text/plain": [
       "0.9960088270267522"
      ]
     },
     "execution_count": 48,
     "metadata": {},
     "output_type": "execute_result"
    }
   ],
   "source": [
    "RFR2.score(x_train, y_train)"
   ]
  },
  {
   "cell_type": "code",
   "execution_count": 49,
   "metadata": {
    "collapsed": false
   },
   "outputs": [
    {
     "data": {
      "text/plain": [
       "0.97451090051684952"
      ]
     },
     "execution_count": 49,
     "metadata": {},
     "output_type": "execute_result"
    }
   ],
   "source": [
    "RFR2.score(x_test, y_test)"
   ]
  },
  {
   "cell_type": "code",
   "execution_count": 50,
   "metadata": {
    "collapsed": false
   },
   "outputs": [
    {
     "data": {
      "text/plain": [
       "16.0480757008636"
      ]
     },
     "execution_count": 50,
     "metadata": {},
     "output_type": "execute_result"
    }
   ],
   "source": [
    "math.sqrt(mean_squared_error(y_train, RFR2.predict(x_train)))"
   ]
  },
  {
   "cell_type": "code",
   "execution_count": 51,
   "metadata": {
    "collapsed": false
   },
   "outputs": [
    {
     "data": {
      "text/plain": [
       "40.59779500595372"
      ]
     },
     "execution_count": 51,
     "metadata": {},
     "output_type": "execute_result"
    }
   ],
   "source": [
    "math.sqrt(mean_squared_error(y_test, RFR2.predict(x_test)))"
   ]
  },
  {
   "cell_type": "code",
   "execution_count": null,
   "metadata": {
    "collapsed": true
   },
   "outputs": [],
   "source": [
    "from __future__ import print_function\n",
    "from __future__ import division\n",
    "\n",
    "from sklearn.datasets import make_classification\n",
    "from sklearn.cross_validation import cross_val_score\n",
    "from sklearn.ensemble import RandomForestRegressor as RFR\n",
    "from bayes_opt import BayesianOptimization\n",
    "\n",
    "data=x_train\n",
    "target=y_train\n",
    "\n",
    "def rfrcv(n_estimators, min_samples_split, max_features):\n",
    "    return cross_val_score(RFR(n_estimators=int(n_estimators),\n",
    "                               min_samples_split=int(min_samples_split),\n",
    "                               max_features=min(max_features, 0.999),\n",
    "                               random_state=2),\n",
    "                           data, target, 'mean_squared_error', cv=5).mean()\n",
    "\n",
    "if __name__ == \"__main__\":\n",
    "\n",
    "    rfrBO = BayesianOptimization(rfrcv, {'n_estimators': (300, 1000),\n",
    "                                         'min_samples_split': (2, 25),\n",
    "                                         'max_features': (0.1, 0.999)})\n",
    "    rfrBO.maximize(init_points=2, n_iter = 10)\n",
    "    print('Final Results')\n",
    "    print('RFC: %f' % rfcBO.res['max']['max_val'])"
   ]
  },
  {
   "cell_type": "code",
   "execution_count": null,
   "metadata": {
    "collapsed": true
   },
   "outputs": [],
   "source": [
    "from __future__ import print_function\n",
    "from __future__ import division\n",
    "\n",
    "from sklearn.datasets import make_classification\n",
    "from sklearn.cross_validation import cross_val_score\n",
    "from sklearn.ensemble import RandomForestRegressor as RFR\n",
    "from bayes_opt import BayesianOptimization\n",
    "\n",
    "data=x_train\n",
    "target=y_train\n",
    "\n",
    "def rfrcv(n_estimators, min_samples_split, max_features):\n",
    "    return cross_val_score(RFR(n_estimators=int(n_estimators),\\\n",
    "                               min_samples_split=int(min_samples_split),\\\n",
    "                               max_features=min(max_features, 0.999),\\\n",
    "                               random_state=2),\\\n",
    "                           data, target, 'mean_squared_error', cv=5).mean()\n",
    "\n",
    "if __name__ == \"__main__\":\n",
    "\n",
    "    rfrBO = BayesianOptimization(rfrcv, {'n_estimators': (500, 1000),\\\n",
    "                                         'min_samples_split': (2, 25),\\\n",
    "                                         'max_features': (0.1, 0.999)})\n",
    "    rfrBO.maximize(init_points=2, n_iter = 10)\n",
    "    print('Final Results')\n",
    "    print('RFC: %f' % rfcBO.res['max']['max_val'])"
   ]
  },
  {
   "cell_type": "code",
   "execution_count": 28,
   "metadata": {
    "collapsed": false
   },
   "outputs": [
    {
     "data": {
      "text/plain": [
       "(61, 203)"
      ]
     },
     "execution_count": 28,
     "metadata": {},
     "output_type": "execute_result"
    }
   ],
   "source": [
    "df=step_1.sample(frac=0.0001)\n",
    "target1=df[['count']]\n",
    "target1.shape\n",
    "data1=df[[col for col in step_1.columns if col not in ['count']]]\n",
    "data1.shape"
   ]
  },
  {
   "cell_type": "code",
   "execution_count": 38,
   "metadata": {
    "collapsed": false
   },
   "outputs": [
    {
     "data": {
      "text/plain": [
       "(61, 1)"
      ]
     },
     "execution_count": 38,
     "metadata": {},
     "output_type": "execute_result"
    }
   ],
   "source": [
    "target1.shape"
   ]
  },
  {
   "cell_type": "code",
   "execution_count": 46,
   "metadata": {
    "collapsed": false
   },
   "outputs": [
    {
     "name": "stdout",
     "output_type": "stream",
     "text": [
      "\u001b[31mInitialization\u001b[0m\n",
      "\u001b[94m--------------------------------------------------------------------------------------------------------------------------------------------------\u001b[0m\n",
      " Step |   Time |      Value |   colsample_bytree |     gamma |   learning_rate |   max_depth |   min_child_weight |   n_estimators |   subsample | \n",
      "    1 | 00m11s | \u001b[35m-92990.64135\u001b[0m | \u001b[32m            0.7755\u001b[0m | \u001b[32m   0.3952\u001b[0m | \u001b[32m         0.1376\u001b[0m | \u001b[32m     6.0739\u001b[0m | \u001b[32m            4.0182\u001b[0m | \u001b[32m      898.9586\u001b[0m | \u001b[32m     0.9064\u001b[0m | \n",
      "    2 | 00m10s | -102233.23691 |             0.5820 |    0.8763 |          0.1207 |      6.9955 |             2.4323 |       898.4566 |      0.6347 | \n",
      "\u001b[31mBayesian Optimization\u001b[0m\n",
      "\u001b[94m--------------------------------------------------------------------------------------------------------------------------------------------------\u001b[0m\n",
      " Step |   Time |      Value |   colsample_bytree |     gamma |   learning_rate |   max_depth |   min_child_weight |   n_estimators |   subsample | \n",
      "    3 | 00m14s | -101448.61671 |             0.9202 |    1.0000 |          0.0763 |      8.7081 |             3.2572 |       649.5265 |      0.7169 | \n",
      "    4 | 00m06s | \u001b[35m-88382.40135\u001b[0m | \u001b[32m            0.8165\u001b[0m | \u001b[32m   1.0000\u001b[0m | \u001b[32m         0.0559\u001b[0m | \u001b[32m     6.3638\u001b[0m | \u001b[32m            2.7774\u001b[0m | \u001b[32m      302.7132\u001b[0m | \u001b[32m     0.6460\u001b[0m | \n",
      "    5 | 00m07s | -94941.69301 |             0.7720 |    1.0000 |          0.1261 |      9.5796 |             4.6456 |       341.4628 |      0.9044 | \n",
      "    6 | 00m06s | \u001b[35m-87842.03429\u001b[0m | \u001b[32m            0.7293\u001b[0m | \u001b[32m   1.0000\u001b[0m | \u001b[32m         0.0469\u001b[0m | \u001b[32m     9.8017\u001b[0m | \u001b[32m            5.8659\u001b[0m | \u001b[32m      472.4035\u001b[0m | \u001b[32m     0.8874\u001b[0m | \n",
      "    7 | 00m07s | -94872.88472 |             0.5511 |    1.0000 |          0.0452 |      6.6803 |             4.4332 |       506.0708 |      0.9967 | \n",
      "    8 | 00m05s | \u001b[35m-81955.94505\u001b[0m | \u001b[32m            0.5529\u001b[0m | \u001b[32m   1.0000\u001b[0m | \u001b[32m         0.0648\u001b[0m | \u001b[32m     6.0065\u001b[0m | \u001b[32m            9.3736\u001b[0m | \u001b[32m      598.9755\u001b[0m | \u001b[32m     0.7197\u001b[0m | \n",
      "    9 | 00m07s | -106773.60540 |             0.6314 |    1.0000 |          0.1629 |      3.8843 |             8.6960 |       727.6042 |      0.8342 | \n",
      "   10 | 00m04s | -97553.97374 |             0.5053 |    1.0000 |          0.1707 |      6.3052 |             2.0132 |       226.4823 |      0.8504 | \n",
      "   11 | 00m06s | -103667.79315 |             0.8952 |    1.0000 |          0.1425 |      6.5142 |             7.4387 |       634.2920 |      0.6860 | \n",
      "   12 | 00m06s | \u001b[35m-74909.30335\u001b[0m | \u001b[32m            0.5480\u001b[0m | \u001b[32m   1.0000\u001b[0m | \u001b[32m         0.0206\u001b[0m | \u001b[32m     7.4135\u001b[0m | \u001b[32m            1.9629\u001b[0m | \u001b[32m      259.2506\u001b[0m | \u001b[32m     0.8616\u001b[0m | \n",
      "-----------------------------------------------------\n",
      "Final Results\n",
      "XGBOOST: -74909.303354\n"
     ]
    }
   ],
   "source": [
    "from __future__ import print_function\n",
    "from __future__ import division\n",
    "import xgboost as xgb\n",
    "from sklearn.cross_validation import cross_val_score\n",
    "from bayes_opt import bayesian_optimization\n",
    "\n",
    "def xgboostcv(max_depth,\n",
    "              learning_rate,\n",
    "              n_estimators,\n",
    "              gamma,\n",
    "              min_child_weight,\n",
    "              subsample,\n",
    "              colsample_bytree,\n",
    "              silent=True,\n",
    "              nthread=-1):\n",
    "    return cross_val_score(xgb.XGBRegressor(max_depth=int(max_depth),\n",
    "                                            learning_rate=learning_rate,\n",
    "                                            n_estimators=int(n_estimators),\n",
    "                                            silent=silent,\n",
    "                                            nthread=nthread,\n",
    "                                            gamma=gamma,\n",
    "                                            min_child_weight=min_child_weight,\n",
    "                                            subsample=subsample,\n",
    "                                            colsample_bytree=colsample_bytree),\n",
    "                           data1,\n",
    "                           target1,\n",
    "                           \"mean_squared_error\",\n",
    "                           cv=5).mean()\n",
    "\n",
    "if __name__ == \"__main__\":\n",
    "    \n",
    "    xgboostBO = BayesianOptimization(xgboostcv,\n",
    "                                 {'max_depth': (3, 10),\n",
    "                                  'learning_rate': (0.01, 0.2),\n",
    "                                  'n_estimators': (50, 1000),\n",
    "                                  'gamma': (1., 0.01),\n",
    "                                  'min_child_weight': (1, 10),\n",
    "                                  'subsample': (0.5, 1),\n",
    "                                  'colsample_bytree' :(0.5, 1)})\n",
    "    xgboostBO.maximize(init_points=2, n_iter = 10)\n",
    "    print('-'*53)\n",
    "    print('Final Results')\n",
    "    print('XGBOOST: %f' % xgboostBO.res['max']['max_val'])"
   ]
  },
  {
   "cell_type": "code",
   "execution_count": 63,
   "metadata": {
    "collapsed": true
   },
   "outputs": [],
   "source": [
    "##neural network"
   ]
  },
  {
   "cell_type": "code",
   "execution_count": 65,
   "metadata": {
    "collapsed": false
   },
   "outputs": [],
   "source": [
    "from sklearn.preprocessing import StandardScaler  \n",
    "scaler = StandardScaler()  \n",
    "scaler.fit(x_train)  \n",
    "x_train1 = scaler.transform(x_train)  \n",
    "x_test1 = scaler.transform(x_test) "
   ]
  },
  {
   "cell_type": "code",
   "execution_count": 1,
   "metadata": {
    "collapsed": false
   },
   "outputs": [
    {
     "ename": "ImportError",
     "evalue": "cannot import name MLPRegressor",
     "output_type": "error",
     "traceback": [
      "\u001b[0;31m---------------------------------------------------------------------------\u001b[0m",
      "\u001b[0;31mImportError\u001b[0m                               Traceback (most recent call last)",
      "\u001b[0;32m<ipython-input-1-5a9f8e06d1ac>\u001b[0m in \u001b[0;36m<module>\u001b[0;34m()\u001b[0m\n\u001b[0;32m----> 1\u001b[0;31m \u001b[0;32mfrom\u001b[0m \u001b[0msklearn\u001b[0m\u001b[0;34m.\u001b[0m\u001b[0mneural_network\u001b[0m \u001b[0;32mimport\u001b[0m \u001b[0mMLPRegressor\u001b[0m\u001b[0;34m\u001b[0m\u001b[0m\n\u001b[0m",
      "\u001b[0;31mImportError\u001b[0m: cannot import name MLPRegressor"
     ]
    }
   ],
   "source": [
    "from sklearn.neural_network import MLPRegressor"
   ]
  },
  {
   "cell_type": "code",
   "execution_count": 3,
   "metadata": {
    "collapsed": false
   },
   "outputs": [
    {
     "ename": "ImportError",
     "evalue": "cannot import name MLPClassifier",
     "output_type": "error",
     "traceback": [
      "\u001b[0;31m---------------------------------------------------------------------------\u001b[0m",
      "\u001b[0;31mImportError\u001b[0m                               Traceback (most recent call last)",
      "\u001b[0;32m<ipython-input-3-6113b65dfa44>\u001b[0m in \u001b[0;36m<module>\u001b[0;34m()\u001b[0m\n\u001b[0;32m----> 1\u001b[0;31m \u001b[0;32mfrom\u001b[0m \u001b[0msklearn\u001b[0m\u001b[0;34m.\u001b[0m\u001b[0mneural_network\u001b[0m \u001b[0;32mimport\u001b[0m \u001b[0mMLPClassifier\u001b[0m\u001b[0;34m\u001b[0m\u001b[0m\n\u001b[0m",
      "\u001b[0;31mImportError\u001b[0m: cannot import name MLPClassifier"
     ]
    }
   ],
   "source": [
    "from sklearn.neural_network import MLPClassifier"
   ]
  },
  {
   "cell_type": "code",
   "execution_count": 2,
   "metadata": {
    "collapsed": false
   },
   "outputs": [],
   "source": [
    "from sklearn.neural_network import *\n",
    "import sklearn.neural_network"
   ]
  },
  {
   "cell_type": "code",
   "execution_count": 8,
   "metadata": {
    "collapsed": false
   },
   "outputs": [
    {
     "name": "stdout",
     "output_type": "stream",
     "text": [
      "Help on package sklearn.neural_network in sklearn:\n",
      "\n",
      "NAME\n",
      "    sklearn.neural_network\n",
      "\n",
      "FILE\n",
      "    /Users/shuozhang/anaconda/lib/python2.7/site-packages/sklearn/neural_network/__init__.py\n",
      "\n",
      "DESCRIPTION\n",
      "    The :mod:`sklearn.neural_network` module includes models based on neural\n",
      "    networks.\n",
      "\n",
      "PACKAGE CONTENTS\n",
      "    rbm\n",
      "\n",
      "CLASSES\n",
      "    sklearn.base.BaseEstimator(__builtin__.object)\n",
      "        sklearn.neural_network.rbm.BernoulliRBM(sklearn.base.BaseEstimator, sklearn.base.TransformerMixin)\n",
      "    sklearn.base.TransformerMixin(__builtin__.object)\n",
      "        sklearn.neural_network.rbm.BernoulliRBM(sklearn.base.BaseEstimator, sklearn.base.TransformerMixin)\n",
      "    \n",
      "    class BernoulliRBM(sklearn.base.BaseEstimator, sklearn.base.TransformerMixin)\n",
      "     |  Bernoulli Restricted Boltzmann Machine (RBM).\n",
      "     |  \n",
      "     |  A Restricted Boltzmann Machine with binary visible units and\n",
      "     |  binary hiddens. Parameters are estimated using Stochastic Maximum\n",
      "     |  Likelihood (SML), also known as Persistent Contrastive Divergence (PCD)\n",
      "     |  [2].\n",
      "     |  \n",
      "     |  The time complexity of this implementation is ``O(d ** 2)`` assuming\n",
      "     |  d ~ n_features ~ n_components.\n",
      "     |  \n",
      "     |  Read more in the :ref:`User Guide <rbm>`.\n",
      "     |  \n",
      "     |  Parameters\n",
      "     |  ----------\n",
      "     |  n_components : int, optional\n",
      "     |      Number of binary hidden units.\n",
      "     |  \n",
      "     |  learning_rate : float, optional\n",
      "     |      The learning rate for weight updates. It is *highly* recommended\n",
      "     |      to tune this hyper-parameter. Reasonable values are in the\n",
      "     |      10**[0., -3.] range.\n",
      "     |  \n",
      "     |  batch_size : int, optional\n",
      "     |      Number of examples per minibatch.\n",
      "     |  \n",
      "     |  n_iter : int, optional\n",
      "     |      Number of iterations/sweeps over the training dataset to perform\n",
      "     |      during training.\n",
      "     |  \n",
      "     |  verbose : int, optional\n",
      "     |      The verbosity level. The default, zero, means silent mode.\n",
      "     |  \n",
      "     |  random_state : integer or numpy.RandomState, optional\n",
      "     |      A random number generator instance to define the state of the\n",
      "     |      random permutations generator. If an integer is given, it fixes the\n",
      "     |      seed. Defaults to the global numpy random number generator.\n",
      "     |  \n",
      "     |  Attributes\n",
      "     |  ----------\n",
      "     |  intercept_hidden_ : array-like, shape (n_components,)\n",
      "     |      Biases of the hidden units.\n",
      "     |  \n",
      "     |  intercept_visible_ : array-like, shape (n_features,)\n",
      "     |      Biases of the visible units.\n",
      "     |  \n",
      "     |  components_ : array-like, shape (n_components, n_features)\n",
      "     |      Weight matrix, where n_features in the number of\n",
      "     |      visible units and n_components is the number of hidden units.\n",
      "     |  \n",
      "     |  Examples\n",
      "     |  --------\n",
      "     |  \n",
      "     |  >>> import numpy as np\n",
      "     |  >>> from sklearn.neural_network import BernoulliRBM\n",
      "     |  >>> X = np.array([[0, 0, 0], [0, 1, 1], [1, 0, 1], [1, 1, 1]])\n",
      "     |  >>> model = BernoulliRBM(n_components=2)\n",
      "     |  >>> model.fit(X)\n",
      "     |  BernoulliRBM(batch_size=10, learning_rate=0.1, n_components=2, n_iter=10,\n",
      "     |         random_state=None, verbose=0)\n",
      "     |  \n",
      "     |  References\n",
      "     |  ----------\n",
      "     |  \n",
      "     |  [1] Hinton, G. E., Osindero, S. and Teh, Y. A fast learning algorithm for\n",
      "     |      deep belief nets. Neural Computation 18, pp 1527-1554.\n",
      "     |      http://www.cs.toronto.edu/~hinton/absps/fastnc.pdf\n",
      "     |  \n",
      "     |  [2] Tieleman, T. Training Restricted Boltzmann Machines using\n",
      "     |      Approximations to the Likelihood Gradient. International Conference\n",
      "     |      on Machine Learning (ICML) 2008\n",
      "     |  \n",
      "     |  Method resolution order:\n",
      "     |      BernoulliRBM\n",
      "     |      sklearn.base.BaseEstimator\n",
      "     |      sklearn.base.TransformerMixin\n",
      "     |      __builtin__.object\n",
      "     |  \n",
      "     |  Methods defined here:\n",
      "     |  \n",
      "     |  __init__(self, n_components=256, learning_rate=0.1, batch_size=10, n_iter=10, verbose=0, random_state=None)\n",
      "     |  \n",
      "     |  fit(self, X, y=None)\n",
      "     |      Fit the model to the data X.\n",
      "     |      \n",
      "     |      Parameters\n",
      "     |      ----------\n",
      "     |      X : {array-like, sparse matrix} shape (n_samples, n_features)\n",
      "     |          Training data.\n",
      "     |      \n",
      "     |      Returns\n",
      "     |      -------\n",
      "     |      self : BernoulliRBM\n",
      "     |          The fitted model.\n",
      "     |  \n",
      "     |  gibbs(self, v)\n",
      "     |      Perform one Gibbs sampling step.\n",
      "     |      \n",
      "     |      Parameters\n",
      "     |      ----------\n",
      "     |      v : array-like, shape (n_samples, n_features)\n",
      "     |          Values of the visible layer to start from.\n",
      "     |      \n",
      "     |      Returns\n",
      "     |      -------\n",
      "     |      v_new : array-like, shape (n_samples, n_features)\n",
      "     |          Values of the visible layer after one Gibbs step.\n",
      "     |  \n",
      "     |  partial_fit(self, X, y=None)\n",
      "     |      Fit the model to the data X which should contain a partial\n",
      "     |      segment of the data.\n",
      "     |      \n",
      "     |      Parameters\n",
      "     |      ----------\n",
      "     |      X : array-like, shape (n_samples, n_features)\n",
      "     |          Training data.\n",
      "     |      \n",
      "     |      Returns\n",
      "     |      -------\n",
      "     |      self : BernoulliRBM\n",
      "     |          The fitted model.\n",
      "     |  \n",
      "     |  score_samples(self, X)\n",
      "     |      Compute the pseudo-likelihood of X.\n",
      "     |      \n",
      "     |      Parameters\n",
      "     |      ----------\n",
      "     |      X : {array-like, sparse matrix} shape (n_samples, n_features)\n",
      "     |          Values of the visible layer. Must be all-boolean (not checked).\n",
      "     |      \n",
      "     |      Returns\n",
      "     |      -------\n",
      "     |      pseudo_likelihood : array-like, shape (n_samples,)\n",
      "     |          Value of the pseudo-likelihood (proxy for likelihood).\n",
      "     |      \n",
      "     |      Notes\n",
      "     |      -----\n",
      "     |      This method is not deterministic: it computes a quantity called the\n",
      "     |      free energy on X, then on a randomly corrupted version of X, and\n",
      "     |      returns the log of the logistic function of the difference.\n",
      "     |  \n",
      "     |  transform(self, X)\n",
      "     |      Compute the hidden layer activation probabilities, P(h=1|v=X).\n",
      "     |      \n",
      "     |      Parameters\n",
      "     |      ----------\n",
      "     |      X : {array-like, sparse matrix} shape (n_samples, n_features)\n",
      "     |          The data to be transformed.\n",
      "     |      \n",
      "     |      Returns\n",
      "     |      -------\n",
      "     |      h : array, shape (n_samples, n_components)\n",
      "     |          Latent representations of the data.\n",
      "     |  \n",
      "     |  ----------------------------------------------------------------------\n",
      "     |  Methods inherited from sklearn.base.BaseEstimator:\n",
      "     |  \n",
      "     |  __repr__(self)\n",
      "     |  \n",
      "     |  get_params(self, deep=True)\n",
      "     |      Get parameters for this estimator.\n",
      "     |      \n",
      "     |      Parameters\n",
      "     |      ----------\n",
      "     |      deep: boolean, optional\n",
      "     |          If True, will return the parameters for this estimator and\n",
      "     |          contained subobjects that are estimators.\n",
      "     |      \n",
      "     |      Returns\n",
      "     |      -------\n",
      "     |      params : mapping of string to any\n",
      "     |          Parameter names mapped to their values.\n",
      "     |  \n",
      "     |  set_params(self, **params)\n",
      "     |      Set the parameters of this estimator.\n",
      "     |      \n",
      "     |      The method works on simple estimators as well as on nested objects\n",
      "     |      (such as pipelines). The former have parameters of the form\n",
      "     |      ``<component>__<parameter>`` so that it's possible to update each\n",
      "     |      component of a nested object.\n",
      "     |      \n",
      "     |      Returns\n",
      "     |      -------\n",
      "     |      self\n",
      "     |  \n",
      "     |  ----------------------------------------------------------------------\n",
      "     |  Data descriptors inherited from sklearn.base.BaseEstimator:\n",
      "     |  \n",
      "     |  __dict__\n",
      "     |      dictionary for instance variables (if defined)\n",
      "     |  \n",
      "     |  __weakref__\n",
      "     |      list of weak references to the object (if defined)\n",
      "     |  \n",
      "     |  ----------------------------------------------------------------------\n",
      "     |  Methods inherited from sklearn.base.TransformerMixin:\n",
      "     |  \n",
      "     |  fit_transform(self, X, y=None, **fit_params)\n",
      "     |      Fit to data, then transform it.\n",
      "     |      \n",
      "     |      Fits transformer to X and y with optional parameters fit_params\n",
      "     |      and returns a transformed version of X.\n",
      "     |      \n",
      "     |      Parameters\n",
      "     |      ----------\n",
      "     |      X : numpy array of shape [n_samples, n_features]\n",
      "     |          Training set.\n",
      "     |      \n",
      "     |      y : numpy array of shape [n_samples]\n",
      "     |          Target values.\n",
      "     |      \n",
      "     |      Returns\n",
      "     |      -------\n",
      "     |      X_new : numpy array of shape [n_samples, n_features_new]\n",
      "     |          Transformed array.\n",
      "\n",
      "DATA\n",
      "    __all__ = ['BernoulliRBM']\n",
      "\n",
      "\n"
     ]
    }
   ],
   "source": [
    "help(sklearn.neural_network)"
   ]
  },
  {
   "cell_type": "code",
   "execution_count": null,
   "metadata": {
    "collapsed": true
   },
   "outputs": [],
   "source": [
    "from __future__ import print_function\n",
    "from __future__ import division\n",
    "from sklearn.neural_network import MLPRegressor\n",
    "from sklearn.cross_validation import cross_val_score\n",
    "from bayes_opt import bayesian_optimization\n",
    "\n",
    "def MLPRegressorcv(max_depth,\n",
    "              learning_rate,\n",
    "              n_estimators,\n",
    "              gamma,\n",
    "              min_child_weight,\n",
    "              subsample,\n",
    "              colsample_bytree,\n",
    "              silent=True,\n",
    "              nthread=-1):\n",
    "    return cross_val_score(MLPRegressor(max_depth=int(max_depth),\n",
    "                                            learning_rate=learning_rate,\n",
    "                                            n_estimators=int(n_estimators),\n",
    "                                            silent=silent,\n",
    "                                            nthread=nthread,\n",
    "                                            gamma=gamma,\n",
    "                                            min_child_weight=min_child_weight,\n",
    "                                            subsample=subsample,\n",
    "                                            colsample_bytree=colsample_bytree),\n",
    "                           data1,\n",
    "                           target1,\n",
    "                           \"mean_squared_error\",\n",
    "                           cv=5).mean()\n",
    "\n",
    "if __name__ == \"__main__\":\n",
    "    \n",
    "    xgboostBO = BayesianOptimization(xgboostcv,\n",
    "                                 {'max_depth': (3, 10),\n",
    "                                  'learning_rate': (0.01, 0.2),\n",
    "                                  'n_estimators': (50, 1000),\n",
    "                                  'gamma': (1., 0.01),\n",
    "                                  'min_child_weight': (1, 10),\n",
    "                                  'subsample': (0.5, 1),\n",
    "                                  'colsample_bytree' :(0.5, 1)})\n",
    "    xgboostBO.maximize(init_points=2, n_iter = 10)\n",
    "    print('-'*53)\n",
    "    print('Final Results')\n",
    "    print('XGBOOST: %f' % xgboostBO.res['max']['max_val'])"
   ]
  }
 ],
 "metadata": {
  "kernelspec": {
   "display_name": "Python 2",
   "language": "python",
   "name": "python2"
  },
  "language_info": {
   "codemirror_mode": {
    "name": "ipython",
    "version": 2
   },
   "file_extension": ".py",
   "mimetype": "text/x-python",
   "name": "python",
   "nbconvert_exporter": "python",
   "pygments_lexer": "ipython2",
   "version": "2.7.11"
  }
 },
 "nbformat": 4,
 "nbformat_minor": 0
}
