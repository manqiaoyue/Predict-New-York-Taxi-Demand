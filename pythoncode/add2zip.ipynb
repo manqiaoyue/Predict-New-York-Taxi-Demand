{
 "cells": [
  {
   "cell_type": "code",
   "execution_count": 100,
   "metadata": {
    "collapsed": false
   },
   "outputs": [
    {
     "data": {
      "text/html": [
       "<div>\n",
       "<table border=\"1\" class=\"dataframe\">\n",
       "  <thead>\n",
       "    <tr style=\"text-align: right;\">\n",
       "      <th></th>\n",
       "      <th>Unnamed: 0</th>\n",
       "      <th>Date</th>\n",
       "      <th>Distance</th>\n",
       "      <th>Lat</th>\n",
       "      <th>Lon</th>\n",
       "      <th>Payment</th>\n",
       "      <th>Tip</th>\n",
       "      <th>Total</th>\n",
       "      <th>Type</th>\n",
       "      <th>Temp</th>\n",
       "      <th>Rain</th>\n",
       "      <th>Snow</th>\n",
       "    </tr>\n",
       "  </thead>\n",
       "  <tbody>\n",
       "    <tr>\n",
       "      <th>0</th>\n",
       "      <td>0</td>\n",
       "      <td>2014-06-30-00</td>\n",
       "      <td>4.4</td>\n",
       "      <td>40.720134</td>\n",
       "      <td>-73.994076</td>\n",
       "      <td>CRD</td>\n",
       "      <td>2.5</td>\n",
       "      <td>19.0</td>\n",
       "      <td>yellow</td>\n",
       "      <td>73.0</td>\n",
       "      <td>0.0</td>\n",
       "      <td>0.0</td>\n",
       "    </tr>\n",
       "    <tr>\n",
       "      <th>1</th>\n",
       "      <td>1</td>\n",
       "      <td>2014-06-30-02</td>\n",
       "      <td>3.0</td>\n",
       "      <td>40.741116</td>\n",
       "      <td>-74.007392</td>\n",
       "      <td>CRD</td>\n",
       "      <td>2.6</td>\n",
       "      <td>15.6</td>\n",
       "      <td>yellow</td>\n",
       "      <td>74.0</td>\n",
       "      <td>0.0</td>\n",
       "      <td>0.0</td>\n",
       "    </tr>\n",
       "    <tr>\n",
       "      <th>2</th>\n",
       "      <td>2</td>\n",
       "      <td>2014-06-30-03</td>\n",
       "      <td>4.7</td>\n",
       "      <td>40.740136</td>\n",
       "      <td>-74.005937</td>\n",
       "      <td>CRD</td>\n",
       "      <td>3.4</td>\n",
       "      <td>20.4</td>\n",
       "      <td>yellow</td>\n",
       "      <td>73.0</td>\n",
       "      <td>0.0</td>\n",
       "      <td>0.0</td>\n",
       "    </tr>\n",
       "    <tr>\n",
       "      <th>3</th>\n",
       "      <td>3</td>\n",
       "      <td>2014-06-30-00</td>\n",
       "      <td>4.6</td>\n",
       "      <td>40.756408</td>\n",
       "      <td>-73.986055</td>\n",
       "      <td>CRD</td>\n",
       "      <td>1.0</td>\n",
       "      <td>18.0</td>\n",
       "      <td>yellow</td>\n",
       "      <td>73.0</td>\n",
       "      <td>0.0</td>\n",
       "      <td>0.0</td>\n",
       "    </tr>\n",
       "    <tr>\n",
       "      <th>4</th>\n",
       "      <td>4</td>\n",
       "      <td>2014-06-30-01</td>\n",
       "      <td>2.5</td>\n",
       "      <td>40.706921</td>\n",
       "      <td>-73.948077</td>\n",
       "      <td>CRD</td>\n",
       "      <td>2.1</td>\n",
       "      <td>12.6</td>\n",
       "      <td>yellow</td>\n",
       "      <td>73.0</td>\n",
       "      <td>0.0</td>\n",
       "      <td>0.0</td>\n",
       "    </tr>\n",
       "  </tbody>\n",
       "</table>\n",
       "</div>"
      ],
      "text/plain": [
       "   Unnamed: 0           Date  Distance        Lat        Lon Payment  Tip  \\\n",
       "0           0  2014-06-30-00       4.4  40.720134 -73.994076     CRD  2.5   \n",
       "1           1  2014-06-30-02       3.0  40.741116 -74.007392     CRD  2.6   \n",
       "2           2  2014-06-30-03       4.7  40.740136 -74.005937     CRD  3.4   \n",
       "3           3  2014-06-30-00       4.6  40.756408 -73.986055     CRD  1.0   \n",
       "4           4  2014-06-30-01       2.5  40.706921 -73.948077     CRD  2.1   \n",
       "\n",
       "   Total    Type  Temp  Rain  Snow  \n",
       "0   19.0  yellow  73.0   0.0   0.0  \n",
       "1   15.6  yellow  74.0   0.0   0.0  \n",
       "2   20.4  yellow  73.0   0.0   0.0  \n",
       "3   18.0  yellow  73.0   0.0   0.0  \n",
       "4   12.6  yellow  73.0   0.0   0.0  "
      ]
     },
     "execution_count": 100,
     "metadata": {},
     "output_type": "execute_result"
    }
   ],
   "source": [
    "import numpy as np\n",
    "import pandas as pd\n",
    "import os\n",
    "os.chdir(\"/Users/binfang/Documents/NYCDSA/project/Project_5/data/processed_data\")\n",
    "junedataall = pd.read_csv(\"junedataall.csv\", index_col=False, sep=\"\\t\")\n",
    "junedataall = pd.DataFrame(junedataall)\n",
    "junedataall.head()"
   ]
  },
  {
   "cell_type": "code",
   "execution_count": 101,
   "metadata": {
    "collapsed": false
   },
   "outputs": [
    {
     "data": {
      "text/html": [
       "<div>\n",
       "<table border=\"1\" class=\"dataframe\">\n",
       "  <thead>\n",
       "    <tr style=\"text-align: right;\">\n",
       "      <th></th>\n",
       "      <th>Date</th>\n",
       "      <th>Distance</th>\n",
       "      <th>Lat</th>\n",
       "      <th>Lon</th>\n",
       "      <th>Payment</th>\n",
       "      <th>Tip</th>\n",
       "      <th>Total</th>\n",
       "      <th>Type</th>\n",
       "      <th>Temp</th>\n",
       "      <th>Rain</th>\n",
       "      <th>Snow</th>\n",
       "    </tr>\n",
       "  </thead>\n",
       "  <tbody>\n",
       "    <tr>\n",
       "      <th>0</th>\n",
       "      <td>2014-06-30-00</td>\n",
       "      <td>4.4</td>\n",
       "      <td>40.720134</td>\n",
       "      <td>-73.994076</td>\n",
       "      <td>CRD</td>\n",
       "      <td>2.5</td>\n",
       "      <td>19.0</td>\n",
       "      <td>yellow</td>\n",
       "      <td>73.0</td>\n",
       "      <td>0.0</td>\n",
       "      <td>0.0</td>\n",
       "    </tr>\n",
       "    <tr>\n",
       "      <th>1</th>\n",
       "      <td>2014-06-30-02</td>\n",
       "      <td>3.0</td>\n",
       "      <td>40.741116</td>\n",
       "      <td>-74.007392</td>\n",
       "      <td>CRD</td>\n",
       "      <td>2.6</td>\n",
       "      <td>15.6</td>\n",
       "      <td>yellow</td>\n",
       "      <td>74.0</td>\n",
       "      <td>0.0</td>\n",
       "      <td>0.0</td>\n",
       "    </tr>\n",
       "    <tr>\n",
       "      <th>2</th>\n",
       "      <td>2014-06-30-03</td>\n",
       "      <td>4.7</td>\n",
       "      <td>40.740136</td>\n",
       "      <td>-74.005937</td>\n",
       "      <td>CRD</td>\n",
       "      <td>3.4</td>\n",
       "      <td>20.4</td>\n",
       "      <td>yellow</td>\n",
       "      <td>73.0</td>\n",
       "      <td>0.0</td>\n",
       "      <td>0.0</td>\n",
       "    </tr>\n",
       "    <tr>\n",
       "      <th>3</th>\n",
       "      <td>2014-06-30-00</td>\n",
       "      <td>4.6</td>\n",
       "      <td>40.756408</td>\n",
       "      <td>-73.986055</td>\n",
       "      <td>CRD</td>\n",
       "      <td>1.0</td>\n",
       "      <td>18.0</td>\n",
       "      <td>yellow</td>\n",
       "      <td>73.0</td>\n",
       "      <td>0.0</td>\n",
       "      <td>0.0</td>\n",
       "    </tr>\n",
       "    <tr>\n",
       "      <th>4</th>\n",
       "      <td>2014-06-30-01</td>\n",
       "      <td>2.5</td>\n",
       "      <td>40.706921</td>\n",
       "      <td>-73.948077</td>\n",
       "      <td>CRD</td>\n",
       "      <td>2.1</td>\n",
       "      <td>12.6</td>\n",
       "      <td>yellow</td>\n",
       "      <td>73.0</td>\n",
       "      <td>0.0</td>\n",
       "      <td>0.0</td>\n",
       "    </tr>\n",
       "  </tbody>\n",
       "</table>\n",
       "</div>"
      ],
      "text/plain": [
       "            Date  Distance        Lat        Lon Payment  Tip  Total    Type  \\\n",
       "0  2014-06-30-00       4.4  40.720134 -73.994076     CRD  2.5   19.0  yellow   \n",
       "1  2014-06-30-02       3.0  40.741116 -74.007392     CRD  2.6   15.6  yellow   \n",
       "2  2014-06-30-03       4.7  40.740136 -74.005937     CRD  3.4   20.4  yellow   \n",
       "3  2014-06-30-00       4.6  40.756408 -73.986055     CRD  1.0   18.0  yellow   \n",
       "4  2014-06-30-01       2.5  40.706921 -73.948077     CRD  2.1   12.6  yellow   \n",
       "\n",
       "   Temp  Rain  Snow  \n",
       "0  73.0   0.0   0.0  \n",
       "1  74.0   0.0   0.0  \n",
       "2  73.0   0.0   0.0  \n",
       "3  73.0   0.0   0.0  \n",
       "4  73.0   0.0   0.0  "
      ]
     },
     "execution_count": 101,
     "metadata": {},
     "output_type": "execute_result"
    }
   ],
   "source": [
    "junedataall.drop(\"Unnamed: 0\",axis=1, inplace=True)\n",
    "junedataall.head()"
   ]
  },
  {
   "cell_type": "code",
   "execution_count": 102,
   "metadata": {
    "collapsed": false
   },
   "outputs": [
    {
     "name": "stdout",
     "output_type": "stream",
     "text": [
      "171, Bowery, Little Italy, Manhattan, New York County, NYC, New York, 10002, United States of America\n",
      "860, Washington Street, Chelsea, Manhattan, New York County, NYC, New York, 10014, United States of America\n",
      "Hotel Gansevoort, 18, 9th Avenue, Chelsea, Manhattan, New York County, NYC, New York, 10014, United States of America\n",
      "Condé Nast Building, 4, West 43rd Street, Diamond District, Manhattan, New York County, NYC, New York, 10036, United States of America\n",
      "49, Montrose Avenue, Williamsburg, Kings County, NYC, New York, 11206, United States of America\n"
     ]
    }
   ],
   "source": [
    "# from geopy.geocoders import Nominatim\n",
    "# geolocator = Nominatim()\n",
    "# location1 = geolocator.reverse(\"40.720134, -73.994076\")\n",
    "# location2 = geolocator.reverse(\"40.741116, -74.007392\")\n",
    "# location3 = geolocator.reverse(\"40.740136, -74.005937\")\n",
    "# location4 = geolocator.reverse(\"40.756408, -73.986055\")\n",
    "# location5 = geolocator.reverse(\"40.706921, -73.948077\")\n",
    "# print(location1.address)\n",
    "# print(location2.address)\n",
    "# print(location3.address)\n",
    "# print(location4.address)\n",
    "# print(location5.address)"
   ]
  },
  {
   "cell_type": "code",
   "execution_count": 103,
   "metadata": {
    "collapsed": false
   },
   "outputs": [
    {
     "name": "stdout",
     "output_type": "stream",
     "text": [
      "10002\n"
     ]
    }
   ],
   "source": [
    "# from geopy.geocoders import Nominatim\n",
    "# import re\n",
    "# geolocator = Nominatim()\n",
    "# lat = junedataall[\"Lat\"][0]\n",
    "# lon = junedataall[\"Lon\"][0]\n",
    "# coord = str(lat) + \",\" + str(lon)\n",
    "# # print coord\n",
    "# location = geolocator.reverse(coord)\n",
    "# # print location\n",
    "# p1 = str(re.findall(r\"\\D(\\d{5})\\D\", location.address))\n",
    "# print str(filter(str.isdigit, p1))"
   ]
  },
  {
   "cell_type": "code",
   "execution_count": 104,
   "metadata": {
    "collapsed": false
   },
   "outputs": [],
   "source": [
    "#########################################################################################################\n",
    "## Add new column Coordinates\n",
    "junedataall[\"Lat\"] = junedataall[\"Lat\"].astype(str)\n",
    "junedataall[\"Lon\"] = junedataall[\"Lon\"].astype(str)\n",
    "junedataall[\"Coord\"] = junedataall[[\"Lat\", \"Lon\"]].apply(lambda x: \",\".join(x), axis=1)"
   ]
  },
  {
   "cell_type": "code",
   "execution_count": 105,
   "metadata": {
    "collapsed": false
   },
   "outputs": [
    {
     "data": {
      "text/html": [
       "<div>\n",
       "<table border=\"1\" class=\"dataframe\">\n",
       "  <thead>\n",
       "    <tr style=\"text-align: right;\">\n",
       "      <th></th>\n",
       "      <th>Date</th>\n",
       "      <th>Distance</th>\n",
       "      <th>Lat</th>\n",
       "      <th>Lon</th>\n",
       "      <th>Payment</th>\n",
       "      <th>Tip</th>\n",
       "      <th>Total</th>\n",
       "      <th>Type</th>\n",
       "      <th>Temp</th>\n",
       "      <th>Rain</th>\n",
       "      <th>Snow</th>\n",
       "      <th>Coord</th>\n",
       "    </tr>\n",
       "  </thead>\n",
       "  <tbody>\n",
       "    <tr>\n",
       "      <th>0</th>\n",
       "      <td>2014-06-30-00</td>\n",
       "      <td>4.4</td>\n",
       "      <td>40.720134</td>\n",
       "      <td>-73.994076</td>\n",
       "      <td>CRD</td>\n",
       "      <td>2.5</td>\n",
       "      <td>19.0</td>\n",
       "      <td>yellow</td>\n",
       "      <td>73.0</td>\n",
       "      <td>0.0</td>\n",
       "      <td>0.0</td>\n",
       "      <td>40.720134,-73.994076</td>\n",
       "    </tr>\n",
       "    <tr>\n",
       "      <th>1</th>\n",
       "      <td>2014-06-30-02</td>\n",
       "      <td>3.0</td>\n",
       "      <td>40.741116</td>\n",
       "      <td>-74.007392</td>\n",
       "      <td>CRD</td>\n",
       "      <td>2.6</td>\n",
       "      <td>15.6</td>\n",
       "      <td>yellow</td>\n",
       "      <td>74.0</td>\n",
       "      <td>0.0</td>\n",
       "      <td>0.0</td>\n",
       "      <td>40.741116,-74.007392</td>\n",
       "    </tr>\n",
       "    <tr>\n",
       "      <th>2</th>\n",
       "      <td>2014-06-30-03</td>\n",
       "      <td>4.7</td>\n",
       "      <td>40.740136</td>\n",
       "      <td>-74.005937</td>\n",
       "      <td>CRD</td>\n",
       "      <td>3.4</td>\n",
       "      <td>20.4</td>\n",
       "      <td>yellow</td>\n",
       "      <td>73.0</td>\n",
       "      <td>0.0</td>\n",
       "      <td>0.0</td>\n",
       "      <td>40.740136,-74.005937</td>\n",
       "    </tr>\n",
       "    <tr>\n",
       "      <th>3</th>\n",
       "      <td>2014-06-30-00</td>\n",
       "      <td>4.6</td>\n",
       "      <td>40.756408</td>\n",
       "      <td>-73.986055</td>\n",
       "      <td>CRD</td>\n",
       "      <td>1.0</td>\n",
       "      <td>18.0</td>\n",
       "      <td>yellow</td>\n",
       "      <td>73.0</td>\n",
       "      <td>0.0</td>\n",
       "      <td>0.0</td>\n",
       "      <td>40.756408,-73.986055</td>\n",
       "    </tr>\n",
       "    <tr>\n",
       "      <th>4</th>\n",
       "      <td>2014-06-30-01</td>\n",
       "      <td>2.5</td>\n",
       "      <td>40.706921</td>\n",
       "      <td>-73.948077</td>\n",
       "      <td>CRD</td>\n",
       "      <td>2.1</td>\n",
       "      <td>12.6</td>\n",
       "      <td>yellow</td>\n",
       "      <td>73.0</td>\n",
       "      <td>0.0</td>\n",
       "      <td>0.0</td>\n",
       "      <td>40.706921,-73.948077</td>\n",
       "    </tr>\n",
       "  </tbody>\n",
       "</table>\n",
       "</div>"
      ],
      "text/plain": [
       "            Date  Distance        Lat         Lon Payment  Tip  Total    Type  \\\n",
       "0  2014-06-30-00       4.4  40.720134  -73.994076     CRD  2.5   19.0  yellow   \n",
       "1  2014-06-30-02       3.0  40.741116  -74.007392     CRD  2.6   15.6  yellow   \n",
       "2  2014-06-30-03       4.7  40.740136  -74.005937     CRD  3.4   20.4  yellow   \n",
       "3  2014-06-30-00       4.6  40.756408  -73.986055     CRD  1.0   18.0  yellow   \n",
       "4  2014-06-30-01       2.5  40.706921  -73.948077     CRD  2.1   12.6  yellow   \n",
       "\n",
       "   Temp  Rain  Snow                 Coord  \n",
       "0  73.0   0.0   0.0  40.720134,-73.994076  \n",
       "1  74.0   0.0   0.0  40.741116,-74.007392  \n",
       "2  73.0   0.0   0.0  40.740136,-74.005937  \n",
       "3  73.0   0.0   0.0  40.756408,-73.986055  \n",
       "4  73.0   0.0   0.0  40.706921,-73.948077  "
      ]
     },
     "execution_count": 105,
     "metadata": {},
     "output_type": "execute_result"
    }
   ],
   "source": [
    "junedataall.head()"
   ]
  },
  {
   "cell_type": "code",
   "execution_count": 106,
   "metadata": {
    "collapsed": false
   },
   "outputs": [
    {
     "name": "stdout",
     "output_type": "stream",
     "text": [
      "40.720134,-73.994076\n"
     ]
    }
   ],
   "source": [
    "# print junedataall[\"Coord\"][0]"
   ]
  },
  {
   "cell_type": "code",
   "execution_count": 152,
   "metadata": {
    "collapsed": false
   },
   "outputs": [
    {
     "name": "stdout",
     "output_type": "stream",
     "text": [
      "{0: '10002', 1: '10014', 2: '10014', 3: '10036', 4: '11206', 5: '10001', 6: '10019', 7: '10007', 8: '10003', 9: '10017', 10: '10001', 11: '10014', 12: '10014', 13: '10038', 14: '10013', 15: '10115', 16: '10002', 17: '10021', 18: '10002', 19: '10001', 20: '10023', 21: '11249', 22: 'NaN', 23: '10019', 24: '10023', 25: '10011', 26: '10017', 27: '10065', 28: '10016', 29: '10282', 30: '10035', 31: '10014', 32: '10028', 33: '10022', 34: '10022', 35: '10016', 36: '10075', 37: '10011', 38: '10021', 39: '10024', 40: '10018', 41: '10001', 42: '10011', 43: '10019', 44: '10128', 45: '10035', 46: '10021', 47: '10018', 48: '10282', 49: '10018', 50: '10016', 51: '10018', 52: '10002', 53: '10022', 54: '10009', 55: '07302', 56: 'NaN', 57: '10012', 58: '10075', 59: '11221', 60: '11232', 61: '11104', 62: '10024', 63: '10019', 64: '11010', 65: '10003', 66: '10013', 67: '11101', 68: '10003', 69: '10021', 70: '10037', 71: '10016', 72: '11369', 73: '10029', 74: '11215', 75: '10024', 76: '10011', 77: '11010', 78: '10019', 79: '10003', 80: '10029', 81: '10005', 82: '10019', 83: '10036', 84: '10004', 85: '10001', 86: '10002', 87: '10065', 88: '10014', 89: '10013', 90: '10036', 91: '10018', 92: '10002', 93: '11211', 94: '10036', 95: '10014', 96: '11010', 97: '10011', 98: '10001', 99: '10019'}\n"
     ]
    }
   ],
   "source": [
    "from geopy.geocoders import Nominatim\n",
    "import re\n",
    "geolocator = Nominatim()\n",
    "zipcode = {}\n",
    "for n in range(100):\n",
    "    location = geolocator.reverse(junedataall[\"Coord\"][n])\n",
    "    if location.address == None:\n",
    "        zipcode[n] = \"NaN\"\n",
    "    else:\n",
    "        num = str(re.findall(r\"\\D(\\d{5})\\D\", location.address))\n",
    "        num = str(filter(str.isdigit, num))\n",
    "        zipcode[n] = num        \n",
    "print zipcode"
   ]
  },
  {
   "cell_type": "code",
   "execution_count": null,
   "metadata": {
    "collapsed": true
   },
   "outputs": [],
   "source": []
  }
 ],
 "metadata": {
  "anaconda-cloud": {},
  "kernelspec": {
   "display_name": "Python 2",
   "language": "python",
   "name": "python2"
  },
  "language_info": {
   "codemirror_mode": {
    "name": "ipython",
    "version": 2
   },
   "file_extension": ".py",
   "mimetype": "text/x-python",
   "name": "python",
   "nbconvert_exporter": "python",
   "pygments_lexer": "ipython2",
   "version": "2.7.11"
  }
 },
 "nbformat": 4,
 "nbformat_minor": 0
}
